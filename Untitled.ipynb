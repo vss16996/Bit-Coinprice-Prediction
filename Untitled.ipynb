{
 "cells": [
  {
   "cell_type": "code",
   "execution_count": 1,
   "metadata": {},
   "outputs": [
    {
     "name": "stderr",
     "output_type": "stream",
     "text": [
      "Using TensorFlow backend.\n"
     ]
    }
   ],
   "source": [
    "from keras.models import Sequential\n",
    "from keras.layers import LSTM\n",
    "from keras.layers import Dense"
   ]
  },
  {
   "cell_type": "code",
   "execution_count": 94,
   "metadata": {},
   "outputs": [
    {
     "name": "stderr",
     "output_type": "stream",
     "text": [
      "C:\\Users\\vss\\Anaconda3\\lib\\site-packages\\sklearn\\utils\\validation.py:595: DataConversionWarning: Data with input dtype int32 was converted to float64 by MinMaxScaler.\n",
      "  warnings.warn(msg, DataConversionWarning)\n"
     ]
    },
    {
     "name": "stdout",
     "output_type": "stream",
     "text": [
      "Epoch 1/100\n",
      "180/180 [==============================] - 2s 11ms/step - loss: 0.3667\n",
      "Epoch 2/100\n",
      "180/180 [==============================] - 0s 1ms/step - loss: 0.1030A: 0s - loss: 0.16\n",
      "Epoch 3/100\n",
      "180/180 [==============================] - 0s 1ms/step - loss: 0.0145\n",
      "Epoch 4/100\n",
      "180/180 [==============================] - 0s 1ms/step - loss: 0.0104\n",
      "Epoch 5/100\n",
      "180/180 [==============================] - 0s 1ms/step - loss: 0.0059\n",
      "Epoch 6/100\n",
      "180/180 [==============================] - 0s 1ms/step - loss: 0.0037\n",
      "Epoch 7/100\n",
      "180/180 [==============================] - 0s 1ms/step - loss: 0.0024\n",
      "Epoch 8/100\n",
      "180/180 [==============================] - 0s 1ms/step - loss: 0.0015\n",
      "Epoch 9/100\n",
      "180/180 [==============================] - 0s 1ms/step - loss: 0.0012\n",
      "Epoch 10/100\n",
      "180/180 [==============================] - 0s 1ms/step - loss: 7.0899e-04\n",
      "Epoch 11/100\n",
      "180/180 [==============================] - 0s 1ms/step - loss: 4.6083e-04\n",
      "Epoch 12/100\n",
      "180/180 [==============================] - 0s 1ms/step - loss: 2.9239e-04\n",
      "Epoch 13/100\n",
      "180/180 [==============================] - 0s 1ms/step - loss: 1.9807e-04\n",
      "Epoch 14/100\n",
      "180/180 [==============================] - 0s 1ms/step - loss: 1.4818e-04\n",
      "Epoch 15/100\n",
      "180/180 [==============================] - 0s 999us/step - loss: 1.2569e-04\n",
      "Epoch 16/100\n",
      "180/180 [==============================] - 0s 1ms/step - loss: 1.1479e-04\n",
      "Epoch 17/100\n",
      "180/180 [==============================] - 0s 1ms/step - loss: 1.0687e-04\n",
      "Epoch 18/100\n",
      "180/180 [==============================] - 0s 1ms/step - loss: 1.0310e-04\n",
      "Epoch 19/100\n",
      "180/180 [==============================] - 0s 1ms/step - loss: 9.9561e-05\n",
      "Epoch 20/100\n",
      "180/180 [==============================] - 0s 1ms/step - loss: 9.7974e-05\n",
      "Epoch 21/100\n",
      "180/180 [==============================] - 0s 1ms/step - loss: 9.1035e-05\n",
      "Epoch 22/100\n",
      "180/180 [==============================] - 0s 1ms/step - loss: 8.7469e-05\n",
      "Epoch 23/100\n",
      "180/180 [==============================] - 0s 1ms/step - loss: 8.5176e-05\n",
      "Epoch 24/100\n",
      "180/180 [==============================] - 0s 1ms/step - loss: 8.3253e-05\n",
      "Epoch 25/100\n",
      "180/180 [==============================] - 0s 1ms/step - loss: 7.7616e-05\n",
      "Epoch 26/100\n",
      "180/180 [==============================] - 0s 1ms/step - loss: 7.2922e-05\n",
      "Epoch 27/100\n",
      "180/180 [==============================] - 0s 1ms/step - loss: 7.0317e-05\n",
      "Epoch 28/100\n",
      "180/180 [==============================] - 0s 1ms/step - loss: 6.6744e-05\n",
      "Epoch 29/100\n",
      "180/180 [==============================] - 0s 1ms/step - loss: 6.4130e-05\n",
      "Epoch 30/100\n",
      "180/180 [==============================] - 0s 1ms/step - loss: 6.0788e-05\n",
      "Epoch 31/100\n",
      "180/180 [==============================] - 0s 1ms/step - loss: 5.7742e-05\n",
      "Epoch 32/100\n",
      "180/180 [==============================] - 0s 1ms/step - loss: 5.4982e-05\n",
      "Epoch 33/100\n",
      "180/180 [==============================] - 0s 1ms/step - loss: 5.2034e-05\n",
      "Epoch 34/100\n",
      "180/180 [==============================] - 0s 1ms/step - loss: 4.9435e-05\n",
      "Epoch 35/100\n",
      "180/180 [==============================] - 0s 1ms/step - loss: 4.7182e-05\n",
      "Epoch 36/100\n",
      "180/180 [==============================] - 0s 1ms/step - loss: 4.4860e-05\n",
      "Epoch 37/100\n",
      "180/180 [==============================] - 0s 1ms/step - loss: 4.2546e-05\n",
      "Epoch 38/100\n",
      "180/180 [==============================] - 0s 1ms/step - loss: 4.3367e-05\n",
      "Epoch 39/100\n",
      "180/180 [==============================] - 0s 1ms/step - loss: 4.0292e-05\n",
      "Epoch 40/100\n",
      "180/180 [==============================] - 0s 1ms/step - loss: 3.7456e-05\n",
      "Epoch 41/100\n",
      "180/180 [==============================] - 0s 1ms/step - loss: 3.5499e-05\n",
      "Epoch 42/100\n",
      "180/180 [==============================] - 0s 1ms/step - loss: 3.3664e-05\n",
      "Epoch 43/100\n",
      "180/180 [==============================] - 0s 1ms/step - loss: 3.0655e-05\n",
      "Epoch 44/100\n",
      "180/180 [==============================] - 0s 1ms/step - loss: 2.8658e-05\n",
      "Epoch 45/100\n",
      "180/180 [==============================] - 0s 1ms/step - loss: 2.7348e-05\n",
      "Epoch 46/100\n",
      "180/180 [==============================] - 0s 1ms/step - loss: 2.5950e-05\n",
      "Epoch 47/100\n",
      "180/180 [==============================] - 0s 1ms/step - loss: 2.4480e-05\n",
      "Epoch 48/100\n",
      "180/180 [==============================] - 0s 1ms/step - loss: 2.3471e-05\n",
      "Epoch 49/100\n",
      "180/180 [==============================] - 0s 1ms/step - loss: 2.2075e-05\n",
      "Epoch 50/100\n",
      "180/180 [==============================] - 0s 1ms/step - loss: 2.1078e-05\n",
      "Epoch 51/100\n",
      "180/180 [==============================] - 0s 1ms/step - loss: 2.0080e-05\n",
      "Epoch 52/100\n",
      "180/180 [==============================] - 0s 1ms/step - loss: 1.8833e-05\n",
      "Epoch 53/100\n",
      "180/180 [==============================] - 0s 1ms/step - loss: 1.8103e-05\n",
      "Epoch 54/100\n",
      "180/180 [==============================] - 0s 1ms/step - loss: 1.7182e-05\n",
      "Epoch 55/100\n",
      "180/180 [==============================] - 0s 1ms/step - loss: 1.6640e-05\n",
      "Epoch 56/100\n",
      "180/180 [==============================] - 0s 1ms/step - loss: 1.6222e-05\n",
      "Epoch 57/100\n",
      "180/180 [==============================] - 0s 1ms/step - loss: 1.5374e-05\n",
      "Epoch 58/100\n",
      "180/180 [==============================] - 0s 1ms/step - loss: 1.4515e-05\n",
      "Epoch 59/100\n",
      "180/180 [==============================] - 0s 1ms/step - loss: 1.4041e-05\n",
      "Epoch 60/100\n",
      "180/180 [==============================] - 0s 1ms/step - loss: 1.3548e-05\n",
      "Epoch 61/100\n",
      "180/180 [==============================] - 0s 1ms/step - loss: 1.3166e-05\n",
      "Epoch 62/100\n",
      "180/180 [==============================] - 0s 1ms/step - loss: 1.2607e-05\n",
      "Epoch 63/100\n",
      "180/180 [==============================] - 0s 1ms/step - loss: 1.2605e-05\n",
      "Epoch 64/100\n",
      "180/180 [==============================] - 0s 1ms/step - loss: 1.2143e-05\n",
      "Epoch 65/100\n",
      "180/180 [==============================] - 0s 1ms/step - loss: 1.1683e-05\n",
      "Epoch 66/100\n",
      "180/180 [==============================] - 0s 1ms/step - loss: 1.1009e-05\n",
      "Epoch 67/100\n",
      "180/180 [==============================] - 0s 1ms/step - loss: 1.0839e-05\n",
      "Epoch 68/100\n",
      "180/180 [==============================] - 0s 1ms/step - loss: 1.0597e-05\n",
      "Epoch 69/100\n",
      "180/180 [==============================] - 0s 1ms/step - loss: 1.0519e-05\n",
      "Epoch 70/100\n",
      "180/180 [==============================] - 0s 1ms/step - loss: 1.1038e-05\n",
      "Epoch 71/100\n",
      "180/180 [==============================] - 0s 977us/step - loss: 9.8380e-06\n",
      "Epoch 72/100\n",
      "180/180 [==============================] - 0s 972us/step - loss: 1.0090e-05\n",
      "Epoch 73/100\n",
      "180/180 [==============================] - 0s 999us/step - loss: 9.7141e-06\n",
      "Epoch 74/100\n",
      "180/180 [==============================] - 0s 1ms/step - loss: 1.0000e-05\n",
      "Epoch 75/100\n",
      "180/180 [==============================] - 0s 938us/step - loss: 9.8032e-06\n",
      "Epoch 76/100\n",
      "180/180 [==============================] - 0s 977us/step - loss: 9.7978e-06\n",
      "Epoch 77/100\n",
      "180/180 [==============================] - 0s 1ms/step - loss: 9.2969e-06\n",
      "Epoch 78/100\n",
      "180/180 [==============================] - 0s 988us/step - loss: 9.2188e-06\n",
      "Epoch 79/100\n",
      "180/180 [==============================] - 0s 1ms/step - loss: 9.1928e-06\n",
      "Epoch 80/100\n",
      "180/180 [==============================] - 0s 994us/step - loss: 9.0438e-06\n",
      "Epoch 81/100\n",
      "180/180 [==============================] - 0s 1ms/step - loss: 8.9902e-06\n",
      "Epoch 82/100\n",
      "180/180 [==============================] - 0s 1ms/step - loss: 9.1239e-06\n",
      "Epoch 83/100\n",
      "180/180 [==============================] - 0s 1ms/step - loss: 9.2447e-06\n",
      "Epoch 84/100\n",
      "180/180 [==============================] - 0s 1ms/step - loss: 8.7898e-06\n",
      "Epoch 85/100\n",
      "180/180 [==============================] - 0s 977us/step - loss: 8.6394e-06\n",
      "Epoch 86/100\n",
      "180/180 [==============================] - 0s 1ms/step - loss: 8.5289e-06\n",
      "Epoch 87/100\n",
      "180/180 [==============================] - 0s 1ms/step - loss: 8.5211e-06\n",
      "Epoch 88/100\n",
      "180/180 [==============================] - 0s 1ms/step - loss: 8.5846e-06\n",
      "Epoch 89/100\n",
      "180/180 [==============================] - 0s 1ms/step - loss: 8.8150e-06\n",
      "Epoch 90/100\n",
      "180/180 [==============================] - 0s 1ms/step - loss: 8.5124e-06\n",
      "Epoch 91/100\n",
      "180/180 [==============================] - 0s 1ms/step - loss: 8.3887e-06\n",
      "Epoch 92/100\n",
      "180/180 [==============================] - 0s 1ms/step - loss: 8.3495e-06\n",
      "Epoch 93/100\n",
      "180/180 [==============================] - 0s 1ms/step - loss: 8.3713e-06\n",
      "Epoch 94/100\n",
      "180/180 [==============================] - 0s 1ms/step - loss: 8.2562e-06\n",
      "Epoch 95/100\n"
     ]
    },
    {
     "name": "stdout",
     "output_type": "stream",
     "text": [
      "180/180 [==============================] - 0s 1ms/step - loss: 8.2654e-06\n",
      "Epoch 96/100\n",
      "180/180 [==============================] - 0s 1ms/step - loss: 8.3910e-06\n",
      "Epoch 97/100\n",
      "180/180 [==============================] - 0s 1ms/step - loss: 8.8567e-06\n",
      "Epoch 98/100\n",
      "180/180 [==============================] - 0s 1ms/step - loss: 8.7625e-06\n",
      "Epoch 99/100\n",
      "180/180 [==============================] - 0s 1ms/step - loss: 8.4812e-06\n",
      "Epoch 100/100\n",
      "180/180 [==============================] - 0s 1ms/step - loss: 8.1484e-06\n"
     ]
    },
    {
     "data": {
      "text/plain": [
       "array([[30.697983]], dtype=float32)"
      ]
     },
     "execution_count": 94,
     "metadata": {},
     "output_type": "execute_result"
    }
   ],
   "source": [
    "from keras.models import Sequential\n",
    "from keras.layers import LSTM\n",
    "from keras.layers import Dense\n",
    "import numpy as np\n",
    "\n",
    "model  = Sequential()\n",
    "model.add(LSTM(50,input_shape=(None,1)))\n",
    "model.add(Dense(1))\n",
    "model.compile(optimizer=\"ADAM\",loss=\"mean_squared_error\")\n",
    "\n",
    "n = 200\n",
    "d = [int(i) for  i in range(n) ]\n",
    "d = np.array(d)\n",
    "d = d.reshape((d.shape[0],1))\n",
    "d.shape\n",
    "\n",
    "from sklearn.preprocessing import MinMaxScaler as MS\n",
    "\n",
    "S = MS(feature_range=(0,1))\n",
    "d = S.fit_transform(d)\n",
    "\n",
    "lb = 20\n",
    "X = []\n",
    "Y = []\n",
    "for i in range(n-lb):\n",
    "    X.append(d[i:i+lb])\n",
    "    Y.append(d[lb+i])\n",
    "X = np.array(X)\n",
    "Y = np.array(Y)\n",
    "X = X.reshape((X.shape[0],X.shape[1],1))\n",
    "X.shape\n",
    "\n",
    "model.fit(X,Y,epochs=100,batch_size=20)\n",
    "\n",
    "\n",
    "test = [int(i) for i in range(10,30)]\n",
    "test = np.array(test)\n",
    "test = test.reshape((1,test.shape[0]))\n",
    "test.shape\n",
    "\n",
    "test = S.transform(test)\n",
    "test = test.reshape((test.shape[0],test.shape[1],1))\n",
    "p = model.predict(test)\n",
    "p = S.inverse_transform(p)\n",
    "p"
   ]
  },
  {
   "cell_type": "code",
   "execution_count": 11,
   "metadata": {},
   "outputs": [],
   "source": [
    "import numpy as np"
   ]
  },
  {
   "cell_type": "code",
   "execution_count": 74,
   "metadata": {},
   "outputs": [],
   "source": [
    "model  = Sequential()\n",
    "model.add(LSTM(50,input_shape=(None,1)))\n",
    "model.add(Dense(1))"
   ]
  },
  {
   "cell_type": "code",
   "execution_count": 93,
   "metadata": {},
   "outputs": [],
   "source": [
    "model.compile(optimizer=\"ADAM\",loss=\"mean_squared_error\")"
   ]
  },
  {
   "cell_type": "code",
   "execution_count": 76,
   "metadata": {},
   "outputs": [
    {
     "data": {
      "text/plain": [
       "(200, 1)"
      ]
     },
     "execution_count": 76,
     "metadata": {},
     "output_type": "execute_result"
    }
   ],
   "source": [
    "n = 200\n",
    "d = [int(i) for  i in range(n) ]\n",
    "d = np.array(d)\n",
    "d = d.reshape((d.shape[0],1))\n",
    "d.shape"
   ]
  },
  {
   "cell_type": "code",
   "execution_count": 77,
   "metadata": {},
   "outputs": [],
   "source": [
    "from sklearn.preprocessing import MinMaxScaler as MS"
   ]
  },
  {
   "cell_type": "code",
   "execution_count": 78,
   "metadata": {},
   "outputs": [
    {
     "name": "stderr",
     "output_type": "stream",
     "text": [
      "C:\\Users\\vss\\Anaconda3\\lib\\site-packages\\sklearn\\utils\\validation.py:595: DataConversionWarning: Data with input dtype int32 was converted to float64 by MinMaxScaler.\n",
      "  warnings.warn(msg, DataConversionWarning)\n"
     ]
    }
   ],
   "source": [
    "S = MS(feature_range=(0,1))\n",
    "d = S.fit_transform(d)"
   ]
  },
  {
   "cell_type": "code",
   "execution_count": 79,
   "metadata": {},
   "outputs": [],
   "source": [
    "lb = 20\n",
    "X = []\n",
    "Y = []\n",
    "for i in range(n-lb):\n",
    "    X.append(d[i:i+lb])\n",
    "    Y.append(d[lb+i])"
   ]
  },
  {
   "cell_type": "code",
   "execution_count": 80,
   "metadata": {},
   "outputs": [],
   "source": [
    "lb = 20\n",
    "X = []\n",
    "Y = []\n",
    "for i in range(n-lb):\n",
    "    X.append(d[i:i+lb])\n",
    "    Y.append(d[lb+i])\n",
    "X = np.array(X)\n",
    "Y = np.array(Y)"
   ]
  },
  {
   "cell_type": "code",
   "execution_count": 81,
   "metadata": {},
   "outputs": [
    {
     "data": {
      "text/plain": [
       "(180, 20, 1)"
      ]
     },
     "execution_count": 81,
     "metadata": {},
     "output_type": "execute_result"
    }
   ],
   "source": [
    "lb = 20\n",
    "X = []\n",
    "Y = []\n",
    "for i in range(n-lb):\n",
    "    X.append(d[i:i+lb])\n",
    "    Y.append(d[lb+i])\n",
    "X = np.array(X)\n",
    "Y = np.array(Y)\n",
    "X = X.reshape((X.shape[0],X.shape[1],1))\n",
    "X.shape"
   ]
  },
  {
   "cell_type": "code",
   "execution_count": null,
   "metadata": {},
   "outputs": [],
   "source": []
  },
  {
   "cell_type": "code",
   "execution_count": 82,
   "metadata": {},
   "outputs": [
    {
     "name": "stdout",
     "output_type": "stream",
     "text": [
      "Epoch 1/100\n",
      "180/180 [==============================] - 2s 9ms/step - loss: 0.2499\n",
      "Epoch 2/100\n",
      "180/180 [==============================] - 0s 2ms/step - loss: 0.0399\n",
      "Epoch 3/100\n",
      "180/180 [==============================] - 0s 907us/step - loss: 0.0175\n",
      "Epoch 4/100\n",
      "180/180 [==============================] - 0s 1ms/step - loss: 0.0046\n",
      "Epoch 5/100\n",
      "180/180 [==============================] - 0s 1ms/step - loss: 0.0046\n",
      "Epoch 6/100\n",
      "180/180 [==============================] - 0s 1ms/step - loss: 0.0021\n",
      "Epoch 7/100\n",
      "180/180 [==============================] - 0s 1ms/step - loss: 0.0013\n",
      "Epoch 8/100\n",
      "180/180 [==============================] - 0s 999us/step - loss: 0.0010\n",
      "Epoch 9/100\n",
      "180/180 [==============================] - 0s 1ms/step - loss: 5.7033e-04\n",
      "Epoch 10/100\n",
      "180/180 [==============================] - 0s 1ms/step - loss: 3.4470e-04\n",
      "Epoch 11/100\n",
      "180/180 [==============================] - 0s 1ms/step - loss: 2.3027e-04\n",
      "Epoch 12/100\n",
      "180/180 [==============================] - 0s 1ms/step - loss: 1.4379e-04\n",
      "Epoch 13/100\n",
      "180/180 [==============================] - 0s 961us/step - loss: 1.0106e-04\n",
      "Epoch 14/100\n",
      "180/180 [==============================] - 0s 1ms/step - loss: 8.0728e-05\n",
      "Epoch 15/100\n",
      "180/180 [==============================] - 0s 999us/step - loss: 7.0270e-05\n",
      "Epoch 16/100\n",
      "180/180 [==============================] - 0s 1ms/step - loss: 6.6844e-05\n",
      "Epoch 17/100\n",
      "180/180 [==============================] - 0s 1ms/step - loss: 6.3597e-05\n",
      "Epoch 18/100\n",
      "180/180 [==============================] - 0s 1ms/step - loss: 6.1047e-05\n",
      "Epoch 19/100\n",
      "180/180 [==============================] - 0s 1ms/step - loss: 5.9164e-05\n",
      "Epoch 20/100\n",
      "180/180 [==============================] - 0s 1ms/step - loss: 5.6741e-05\n",
      "Epoch 21/100\n",
      "180/180 [==============================] - 0s 1ms/step - loss: 5.4578e-05\n",
      "Epoch 22/100\n",
      "180/180 [==============================] - 0s 1ms/step - loss: 5.1500e-05\n",
      "Epoch 23/100\n",
      "180/180 [==============================] - 0s 1ms/step - loss: 4.9884e-05\n",
      "Epoch 24/100\n",
      "180/180 [==============================] - 0s 1ms/step - loss: 4.7598e-05\n",
      "Epoch 25/100\n",
      "180/180 [==============================] - 0s 1ms/step - loss: 4.5578e-05\n",
      "Epoch 26/100\n",
      "180/180 [==============================] - 0s 1ms/step - loss: 4.4521e-05\n",
      "Epoch 27/100\n",
      "180/180 [==============================] - 0s 1ms/step - loss: 4.1944e-05\n",
      "Epoch 28/100\n",
      "180/180 [==============================] - 0s 1ms/step - loss: 3.9442e-05\n",
      "Epoch 29/100\n",
      "180/180 [==============================] - 0s 1ms/step - loss: 3.8634e-05\n",
      "Epoch 30/100\n",
      "180/180 [==============================] - 0s 1ms/step - loss: 3.6148e-05\n",
      "Epoch 31/100\n",
      "180/180 [==============================] - 0s 1ms/step - loss: 3.4213e-05\n",
      "Epoch 32/100\n",
      "180/180 [==============================] - 0s 1ms/step - loss: 3.2490e-05\n",
      "Epoch 33/100\n",
      "180/180 [==============================] - 0s 1ms/step - loss: 3.0801e-05\n",
      "Epoch 34/100\n",
      "180/180 [==============================] - 0s 1ms/step - loss: 2.9044e-05\n",
      "Epoch 35/100\n",
      "180/180 [==============================] - 0s 1ms/step - loss: 2.7660e-05\n",
      "Epoch 36/100\n",
      "180/180 [==============================] - 0s 1ms/step - loss: 2.6214e-05\n",
      "Epoch 37/100\n",
      "180/180 [==============================] - 0s 1ms/step - loss: 2.5066e-05\n",
      "Epoch 38/100\n",
      "180/180 [==============================] - 0s 1ms/step - loss: 2.3956e-05\n",
      "Epoch 39/100\n",
      "180/180 [==============================] - 0s 1ms/step - loss: 2.2345e-05\n",
      "Epoch 40/100\n",
      "180/180 [==============================] - 0s 1ms/step - loss: 2.1216e-05\n",
      "Epoch 41/100\n",
      "180/180 [==============================] - 0s 1ms/step - loss: 2.0417e-05\n",
      "Epoch 42/100\n",
      "180/180 [==============================] - 0s 1ms/step - loss: 1.9266e-05\n",
      "Epoch 43/100\n",
      "180/180 [==============================] - 0s 1ms/step - loss: 1.8284e-05\n",
      "Epoch 44/100\n",
      "180/180 [==============================] - 0s 1ms/step - loss: 1.7408e-05\n",
      "Epoch 45/100\n",
      "180/180 [==============================] - 0s 1ms/step - loss: 1.6455e-05\n",
      "Epoch 46/100\n",
      "180/180 [==============================] - 0s 1ms/step - loss: 1.5784e-05\n",
      "Epoch 47/100\n",
      "180/180 [==============================] - 0s 1ms/step - loss: 1.4871e-05\n",
      "Epoch 48/100\n",
      "180/180 [==============================] - 0s 1ms/step - loss: 1.4267e-05\n",
      "Epoch 49/100\n",
      "180/180 [==============================] - 0s 1ms/step - loss: 1.3778e-05\n",
      "Epoch 50/100\n",
      "180/180 [==============================] - 0s 1ms/step - loss: 1.3064e-05\n",
      "Epoch 51/100\n",
      "180/180 [==============================] - 0s 1ms/step - loss: 1.2343e-05\n",
      "Epoch 52/100\n",
      "180/180 [==============================] - 0s 977us/step - loss: 1.2053e-05\n",
      "Epoch 53/100\n",
      "180/180 [==============================] - 0s 1ms/step - loss: 1.1766e-05\n",
      "Epoch 54/100\n",
      "180/180 [==============================] - 0s 1ms/step - loss: 1.1333e-05\n",
      "Epoch 55/100\n",
      "180/180 [==============================] - 0s 905us/step - loss: 1.1406e-05\n",
      "Epoch 56/100\n",
      "180/180 [==============================] - 0s 1ms/step - loss: 1.0609e-05\n",
      "Epoch 57/100\n",
      "180/180 [==============================] - 0s 1ms/step - loss: 9.9344e-06\n",
      "Epoch 58/100\n",
      "180/180 [==============================] - 0s 1ms/step - loss: 9.5118e-06\n",
      "Epoch 59/100\n",
      "180/180 [==============================] - 0s 1ms/step - loss: 9.2712e-06\n",
      "Epoch 60/100\n",
      "180/180 [==============================] - 0s 1ms/step - loss: 8.9481e-06\n",
      "Epoch 61/100\n",
      "180/180 [==============================] - 0s 999us/step - loss: 8.7823e-06\n",
      "Epoch 62/100\n",
      "180/180 [==============================] - 0s 1ms/step - loss: 8.5596e-06\n",
      "Epoch 63/100\n",
      "180/180 [==============================] - 0s 944us/step - loss: 8.5495e-06\n",
      "Epoch 64/100\n",
      "180/180 [==============================] - 0s 1ms/step - loss: 8.1336e-06\n",
      "Epoch 65/100\n",
      "180/180 [==============================] - 0s 1ms/step - loss: 7.7897e-06\n",
      "Epoch 66/100\n",
      "180/180 [==============================] - 0s 972us/step - loss: 7.8527e-06\n",
      "Epoch 67/100\n",
      "180/180 [==============================] - 0s 1ms/step - loss: 7.7852e-06\n",
      "Epoch 68/100\n",
      "180/180 [==============================] - 0s 994us/step - loss: 8.0120e-06\n",
      "Epoch 69/100\n",
      "180/180 [==============================] - 0s 1ms/step - loss: 7.4376e-06\n",
      "Epoch 70/100\n",
      "180/180 [==============================] - 0s 927us/step - loss: 7.1983e-06\n",
      "Epoch 71/100\n",
      "180/180 [==============================] - 0s 888us/step - loss: 7.1905e-06\n",
      "Epoch 72/100\n",
      "180/180 [==============================] - 0s 1ms/step - loss: 7.0222e-06\n",
      "Epoch 73/100\n",
      "180/180 [==============================] - 0s 955us/step - loss: 7.2745e-06\n",
      "Epoch 74/100\n",
      "180/180 [==============================] - 0s 927us/step - loss: 7.3085e-06\n",
      "Epoch 75/100\n",
      "180/180 [==============================] - 0s 922us/step - loss: 6.7794e-06\n",
      "Epoch 76/100\n",
      "180/180 [==============================] - 0s 961us/step - loss: 6.8275e-06\n",
      "Epoch 77/100\n",
      "180/180 [==============================] - 0s 949us/step - loss: 6.7851e-06\n",
      "Epoch 78/100\n",
      "180/180 [==============================] - 0s 1ms/step - loss: 6.7760e-06\n",
      "Epoch 79/100\n",
      "180/180 [==============================] - 0s 933us/step - loss: 6.9461e-06\n",
      "Epoch 80/100\n",
      "180/180 [==============================] - 0s 944us/step - loss: 6.9380e-06\n",
      "Epoch 81/100\n",
      "180/180 [==============================] - 0s 927us/step - loss: 7.0270e-06\n",
      "Epoch 82/100\n",
      "180/180 [==============================] - 0s 972us/step - loss: 6.7473e-06\n",
      "Epoch 83/100\n",
      "180/180 [==============================] - 0s 949us/step - loss: 6.4516e-06\n",
      "Epoch 84/100\n",
      "180/180 [==============================] - 0s 955us/step - loss: 6.4906e-06\n",
      "Epoch 85/100\n",
      "180/180 [==============================] - 0s 922us/step - loss: 7.3339e-06\n",
      "Epoch 86/100\n",
      "180/180 [==============================] - 0s 877us/step - loss: 7.5332e-06\n",
      "Epoch 87/100\n",
      "180/180 [==============================] - 0s 999us/step - loss: 7.8950e-06\n",
      "Epoch 88/100\n",
      "180/180 [==============================] - 0s 944us/step - loss: 6.8069e-06\n",
      "Epoch 89/100\n",
      "180/180 [==============================] - 0s 933us/step - loss: 6.6800e-06\n",
      "Epoch 90/100\n",
      "180/180 [==============================] - 0s 955us/step - loss: 6.6731e-06\n",
      "Epoch 91/100\n",
      "180/180 [==============================] - 0s 916us/step - loss: 6.6867e-06\n",
      "Epoch 92/100\n",
      "180/180 [==============================] - 0s 999us/step - loss: 6.5342e-06\n",
      "Epoch 93/100\n",
      "180/180 [==============================] - 0s 966us/step - loss: 6.2776e-06\n",
      "Epoch 94/100\n"
     ]
    },
    {
     "name": "stdout",
     "output_type": "stream",
     "text": [
      "180/180 [==============================] - 0s 955us/step - loss: 6.3189e-06\n",
      "Epoch 95/100\n",
      "180/180 [==============================] - 0s 949us/step - loss: 6.2583e-06\n",
      "Epoch 96/100\n",
      "180/180 [==============================] - 0s 948us/step - loss: 6.5688e-06\n",
      "Epoch 97/100\n",
      "180/180 [==============================] - 0s 934us/step - loss: 6.9345e-06\n",
      "Epoch 98/100\n",
      "180/180 [==============================] - 0s 938us/step - loss: 6.1977e-06\n",
      "Epoch 99/100\n",
      "180/180 [==============================] - 0s 911us/step - loss: 6.2506e-06\n",
      "Epoch 100/100\n",
      "180/180 [==============================] - 0s 949us/step - loss: 6.8770e-06\n"
     ]
    },
    {
     "data": {
      "text/plain": [
       "<keras.callbacks.History at 0x26a69f45eb8>"
      ]
     },
     "execution_count": 82,
     "metadata": {},
     "output_type": "execute_result"
    }
   ],
   "source": [
    "lb = 20\n",
    "X = []\n",
    "Y = []\n",
    "for i in range(n-lb):\n",
    "    X.append(d[i:i+lb])\n",
    "    Y.append(d[lb+i])\n",
    "X = np.array(X)\n",
    "Y = np.array(Y)\n",
    "X = X.reshape((X.shape[0],X.shape[1],1))\n",
    "X.shape\n",
    "\n",
    "model.fit(X,Y,epochs=100,batch_size=20)"
   ]
  },
  {
   "cell_type": "code",
   "execution_count": 85,
   "metadata": {},
   "outputs": [
    {
     "data": {
      "text/plain": [
       "(1, 20)"
      ]
     },
     "execution_count": 85,
     "metadata": {},
     "output_type": "execute_result"
    }
   ],
   "source": [
    "\n",
    "test = [int(i) for i in range(10,30)]\n",
    "test = np.array(test)\n",
    "test = test.reshape((1,test.shape[0]))\n",
    "test.shape"
   ]
  },
  {
   "cell_type": "code",
   "execution_count": 86,
   "metadata": {},
   "outputs": [],
   "source": [
    "\n",
    "test = [int(i) for i in range(10,30)]\n",
    "test = np.array(test)\n",
    "test = test.reshape((1,test.shape[0]))\n",
    "test.shape\n",
    "\n",
    "test = S.transform(test)\n",
    "test = test.reshape((test.shape[0],test.shape[1],1))\n",
    "p = model.predict(test)\n",
    "p = S.inverse_transform(p)"
   ]
  },
  {
   "cell_type": "code",
   "execution_count": 87,
   "metadata": {},
   "outputs": [],
   "source": [
    "p = model.predict(test)"
   ]
  },
  {
   "cell_type": "code",
   "execution_count": 88,
   "metadata": {},
   "outputs": [],
   "source": [
    "p = S.inverse_transform(p)"
   ]
  },
  {
   "cell_type": "code",
   "execution_count": 89,
   "metadata": {},
   "outputs": [
    {
     "data": {
      "text/plain": [
       "array([[30.657404]], dtype=float32)"
      ]
     },
     "execution_count": 89,
     "metadata": {},
     "output_type": "execute_result"
    }
   ],
   "source": [
    "p"
   ]
  },
  {
   "cell_type": "code",
   "execution_count": 95,
   "metadata": {},
   "outputs": [],
   "source": [
    "x = 55\n",
    "s = bin(x).count('1')"
   ]
  },
  {
   "cell_type": "code",
   "execution_count": 97,
   "metadata": {},
   "outputs": [
    {
     "data": {
      "text/plain": [
       "'0b110111'"
      ]
     },
     "execution_count": 97,
     "metadata": {},
     "output_type": "execute_result"
    }
   ],
   "source": [
    "bin(x)"
   ]
  },
  {
   "cell_type": "code",
   "execution_count": null,
   "metadata": {},
   "outputs": [],
   "source": []
  }
 ],
 "metadata": {
  "kernelspec": {
   "display_name": "Python 3",
   "language": "python",
   "name": "python3"
  },
  "language_info": {
   "codemirror_mode": {
    "name": "ipython",
    "version": 3
   },
   "file_extension": ".py",
   "mimetype": "text/x-python",
   "name": "python",
   "nbconvert_exporter": "python",
   "pygments_lexer": "ipython3",
   "version": "3.7.1"
  }
 },
 "nbformat": 4,
 "nbformat_minor": 2
}
