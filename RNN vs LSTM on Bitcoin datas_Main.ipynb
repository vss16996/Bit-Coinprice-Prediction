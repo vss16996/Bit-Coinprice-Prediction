{
 "cells": [
  {
   "cell_type": "markdown",
   "metadata": {
    "_uuid": "4092ec02cad1c1251d6a82cee9a2c7e7b689558c"
   },
   "source": [
    "**What is the differences between RNN & LSTM?**\n",
    "\n",
    "Before I tell you what is LSTM let me tell you about the biggest problem with RNNs. So far everything looks good about RNNs until we train it via back-propagation. As the gradient of our training samples gets propagated backward through our network, it gets weaker and weaker, by the time it gets to those neurons that represent older data points in our time-series it has no juice to adjust them properly. This problem is called Vanishing Gradient. A LSTM cell is a type of RNN which stores important information about the past and forgets the unimportant pieces. In this way, when gradient back-propagates, it won’t be consumed by unnecessary information."
   ]
  },
  {
   "cell_type": "markdown",
   "metadata": {
    "_uuid": "4c1b32bebf9c6fee1b838a66ad726dfb60b02b30"
   },
   "source": [
    "<a href=\"https://ibb.co/\"><img src=\"https://i.ibb.co/3yN3G91/rnn-vs-lstm.jpg\" alt=\"resim_a\" border=\"2\"></a>"
   ]
  },
  {
   "cell_type": "markdown",
   "metadata": {
    "_uuid": "c855a92a8980bdb670c8342db36884b2effb11a1"
   },
   "source": [
    "*We will use our 50 datas to predict 51th data. Also I will take first 200000 datas*"
   ]
  },
  {
   "cell_type": "code",
   "execution_count": 1,
   "metadata": {
    "_cell_guid": "b1076dfc-b9ad-4769-8c92-a6c4dae69d19",
    "_uuid": "8f2839f25d086af736a60e9eeb907d3b93b6e0e5"
   },
   "outputs": [],
   "source": [
    "import numpy as np \n",
    "import pandas as pd \n",
    "import matplotlib.pyplot as plt\n",
    "\n",
    "#import warnings\n",
    "#warnings.filterwarnings(\"ignore\")\n",
    "\n",
    "\n",
    "#import os\n",
    "#print(os.listdir(\"../input\"))\n"
   ]
  },
  {
   "cell_type": "code",
   "execution_count": 2,
   "metadata": {
    "_cell_guid": "79c7e3d0-c299-4dcb-8224-4455121ee9b0",
    "_uuid": "d629ff2d2480ee46fbb7e2d37f6b5fab8052498a"
   },
   "outputs": [],
   "source": [
    "bit_data=pd.read_csv(\"bitstampUSD_1-min_data_2012-01-01_to_2019-03-13.csv\")\n",
    "bit_data[\"date\"]=pd.to_datetime(bit_data[\"Timestamp\"],unit=\"s\").dt.date\n",
    "group=bit_data.groupby(\"date\")\n",
    "data=group[\"Close\"].mean()"
   ]
  },
  {
   "cell_type": "markdown",
   "metadata": {
    "_uuid": "fcb79be1ca66fff1bb9186622afafa3ff1976d76"
   },
   "source": [
    "What I did here? I added a colum which is \"date\" and I converted \"Timestamp\" columns to date form."
   ]
  },
  {
   "cell_type": "code",
   "execution_count": 3,
   "metadata": {
    "_uuid": "1a5deff671724737f5cf6563da1f9bcc383fea29"
   },
   "outputs": [
    {
     "data": {
      "text/plain": [
       "(2627,)"
      ]
     },
     "execution_count": 3,
     "metadata": {},
     "output_type": "execute_result"
    }
   ],
   "source": [
    "data.shape"
   ]
  },
  {
   "cell_type": "code",
   "execution_count": 4,
   "metadata": {},
   "outputs": [
    {
     "data": {
      "text/html": [
       "<div>\n",
       "<style scoped>\n",
       "    .dataframe tbody tr th:only-of-type {\n",
       "        vertical-align: middle;\n",
       "    }\n",
       "\n",
       "    .dataframe tbody tr th {\n",
       "        vertical-align: top;\n",
       "    }\n",
       "\n",
       "    .dataframe thead th {\n",
       "        text-align: right;\n",
       "    }\n",
       "</style>\n",
       "<table border=\"1\" class=\"dataframe\">\n",
       "  <thead>\n",
       "    <tr style=\"text-align: right;\">\n",
       "      <th></th>\n",
       "      <th>Timestamp</th>\n",
       "      <th>Open</th>\n",
       "      <th>High</th>\n",
       "      <th>Low</th>\n",
       "      <th>Close</th>\n",
       "      <th>Volume_(BTC)</th>\n",
       "      <th>Volume_(Currency)</th>\n",
       "      <th>Weighted_Price</th>\n",
       "      <th>date</th>\n",
       "    </tr>\n",
       "  </thead>\n",
       "  <tbody>\n",
       "    <tr>\n",
       "      <th>0</th>\n",
       "      <td>1325317920</td>\n",
       "      <td>4.39</td>\n",
       "      <td>4.39</td>\n",
       "      <td>4.39</td>\n",
       "      <td>4.39</td>\n",
       "      <td>0.455581</td>\n",
       "      <td>2.0</td>\n",
       "      <td>4.39</td>\n",
       "      <td>2011-12-31</td>\n",
       "    </tr>\n",
       "    <tr>\n",
       "      <th>1</th>\n",
       "      <td>1325317980</td>\n",
       "      <td>NaN</td>\n",
       "      <td>NaN</td>\n",
       "      <td>NaN</td>\n",
       "      <td>NaN</td>\n",
       "      <td>NaN</td>\n",
       "      <td>NaN</td>\n",
       "      <td>NaN</td>\n",
       "      <td>2011-12-31</td>\n",
       "    </tr>\n",
       "    <tr>\n",
       "      <th>2</th>\n",
       "      <td>1325318040</td>\n",
       "      <td>NaN</td>\n",
       "      <td>NaN</td>\n",
       "      <td>NaN</td>\n",
       "      <td>NaN</td>\n",
       "      <td>NaN</td>\n",
       "      <td>NaN</td>\n",
       "      <td>NaN</td>\n",
       "      <td>2011-12-31</td>\n",
       "    </tr>\n",
       "    <tr>\n",
       "      <th>3</th>\n",
       "      <td>1325318100</td>\n",
       "      <td>NaN</td>\n",
       "      <td>NaN</td>\n",
       "      <td>NaN</td>\n",
       "      <td>NaN</td>\n",
       "      <td>NaN</td>\n",
       "      <td>NaN</td>\n",
       "      <td>NaN</td>\n",
       "      <td>2011-12-31</td>\n",
       "    </tr>\n",
       "    <tr>\n",
       "      <th>4</th>\n",
       "      <td>1325318160</td>\n",
       "      <td>NaN</td>\n",
       "      <td>NaN</td>\n",
       "      <td>NaN</td>\n",
       "      <td>NaN</td>\n",
       "      <td>NaN</td>\n",
       "      <td>NaN</td>\n",
       "      <td>NaN</td>\n",
       "      <td>2011-12-31</td>\n",
       "    </tr>\n",
       "  </tbody>\n",
       "</table>\n",
       "</div>"
      ],
      "text/plain": [
       "    Timestamp  Open  High   Low  Close  Volume_(BTC)  Volume_(Currency)  \\\n",
       "0  1325317920  4.39  4.39  4.39   4.39      0.455581                2.0   \n",
       "1  1325317980   NaN   NaN   NaN    NaN           NaN                NaN   \n",
       "2  1325318040   NaN   NaN   NaN    NaN           NaN                NaN   \n",
       "3  1325318100   NaN   NaN   NaN    NaN           NaN                NaN   \n",
       "4  1325318160   NaN   NaN   NaN    NaN           NaN                NaN   \n",
       "\n",
       "   Weighted_Price        date  \n",
       "0            4.39  2011-12-31  \n",
       "1             NaN  2011-12-31  \n",
       "2             NaN  2011-12-31  \n",
       "3             NaN  2011-12-31  \n",
       "4             NaN  2011-12-31  "
      ]
     },
     "execution_count": 4,
     "metadata": {},
     "output_type": "execute_result"
    }
   ],
   "source": [
    "bit_data.shape\n",
    "bit_data.head()"
   ]
  },
  {
   "cell_type": "code",
   "execution_count": 5,
   "metadata": {
    "_uuid": "ef6c5d1afd2e2ad8f8db6502d6ab19dd5536f4df"
   },
   "outputs": [
    {
     "data": {
      "text/plain": [
       "0"
      ]
     },
     "execution_count": 5,
     "metadata": {},
     "output_type": "execute_result"
    }
   ],
   "source": [
    "data.isnull().sum()"
   ]
  },
  {
   "cell_type": "code",
   "execution_count": 6,
   "metadata": {
    "_uuid": "a33c39a4aa1e344c8fa50d2ca56961c37b0ebf65"
   },
   "outputs": [
    {
     "data": {
      "text/plain": [
       "date\n",
       "2011-12-31    4.482500\n",
       "2012-01-01    4.806667\n",
       "2012-01-02    5.000000\n",
       "2012-01-03    5.252500\n",
       "2012-01-04    5.223333\n",
       "Name: Close, dtype: float64"
      ]
     },
     "execution_count": 6,
     "metadata": {},
     "output_type": "execute_result"
    }
   ],
   "source": [
    "data.head()"
   ]
  },
  {
   "cell_type": "markdown",
   "metadata": {
    "_uuid": "05cc03451f03406b8c1138bee571ada74a1de08b"
   },
   "source": [
    "The goal is making a prediction of daily close datas. So we will predict \"close\" values of bitcoin datas"
   ]
  },
  {
   "cell_type": "markdown",
   "metadata": {
    "_uuid": "34da6f362adbd1c072fa82e4b10818fa79f8f2cb"
   },
   "source": [
    "**First I will use RNN to predict our datas**"
   ]
  },
  {
   "cell_type": "code",
   "execution_count": 7,
   "metadata": {
    "_uuid": "757a234889f2a67e648db4273c4a4c4db74d803a"
   },
   "outputs": [
    {
     "name": "stdout",
     "output_type": "stream",
     "text": [
      "(2527,)\n"
     ]
    }
   ],
   "source": [
    "close_train=data.iloc[:len(data)-100]\n",
    "close_test=data.iloc[len(close_train):]\n",
    "print(close_train.shape)"
   ]
  },
  {
   "cell_type": "markdown",
   "metadata": {
    "_uuid": "73b47c588fa00f144c1a87c335d0babe45918a10"
   },
   "source": [
    "Here I will set our values between 0-1 in order to avoid domination of bigger values."
   ]
  },
  {
   "cell_type": "code",
   "execution_count": 8,
   "metadata": {
    "_uuid": "d30f46e2cdcaa483eb9bce041ba08a898cdd1533"
   },
   "outputs": [
    {
     "name": "stdout",
     "output_type": "stream",
     "text": [
      "(2527,)\n"
     ]
    }
   ],
   "source": [
    "#feature scalling (set values between 0-1)\n",
    "close_train=np.array(close_train)\n",
    "print(close_train.shape)\n",
    "close_train=close_train.reshape(close_train.shape[0],1)\n",
    "from sklearn.preprocessing import MinMaxScaler\n",
    "scaler=MinMaxScaler(feature_range=(0,1))\n",
    "close_scaled=scaler.fit_transform(close_train)"
   ]
  },
  {
   "cell_type": "markdown",
   "metadata": {
    "_uuid": "ac63ba26bca53cf1f5df75c31d3dc6268f27eaeb"
   },
   "source": [
    "Let's choose every 50 datas as x-train and 51th as y-train"
   ]
  },
  {
   "cell_type": "code",
   "execution_count": 9,
   "metadata": {
    "_uuid": "7874ac0b39a80e5d013d4c9cdc19f59c93d0440a",
    "scrolled": true
   },
   "outputs": [
    {
     "name": "stdout",
     "output_type": "stream",
     "text": [
      "x_train shape=  (2477, 50, 1)\n",
      "y_train shape=  (2477,)\n"
     ]
    }
   ],
   "source": [
    "timestep=50\n",
    "x_train=[]\n",
    "y_train=[]\n",
    "\n",
    "for i in range(timestep,close_scaled.shape[0]):\n",
    "    x_train.append(close_scaled[i-timestep:i,0])\n",
    "    y_train.append(close_scaled[i,0])\n",
    "\n",
    "x_train,y_train=np.array(x_train),np.array(y_train)\n",
    "x_train=x_train.reshape(x_train.shape[0],x_train.shape[1],1) #reshaped for RNN\n",
    "print(\"x_train shape= \",x_train.shape)\n",
    "print(\"y_train shape= \",y_train.shape)"
   ]
  },
  {
   "cell_type": "code",
   "execution_count": null,
   "metadata": {},
   "outputs": [],
   "source": [
    "x_train"
   ]
  },
  {
   "cell_type": "markdown",
   "metadata": {
    "_uuid": "246a5606d4768110cd8c56ece1b93ff0d3c1a9fa"
   },
   "source": [
    "Time to prepare and run our RNN method"
   ]
  },
  {
   "cell_type": "code",
   "execution_count": 1,
   "metadata": {},
   "outputs": [
    {
     "name": "stderr",
     "output_type": "stream",
     "text": [
      "Using TensorFlow backend.\n"
     ]
    }
   ],
   "source": [
    "from keras.models import Sequential\n",
    "from keras.layers import Dense, SimpleRNN, Dropout,Flatten\n",
    "from keras.callbacks import EarlyStopping, ModelCheckpoint, ReduceLROnPlateau"
   ]
  },
  {
   "cell_type": "code",
   "execution_count": 4,
   "metadata": {},
   "outputs": [],
   "source": [
    "from keras.layers import Dense, Dropout, Conv2D, MaxPooling2D\n",
    "from keras.layers import Flatten, Lambda, BatchNormalization\n",
    "from keras.models import Sequential\n",
    "#from keras.optimizers import Adam, LeakyReLU\n",
    "from keras.layers.advanced_activations import LeakyReLU"
   ]
  },
  {
   "cell_type": "code",
   "execution_count": 50,
   "metadata": {},
   "outputs": [],
   "source": [
    "D_model = Sequential([\n",
    "    Dense(128,input_shape=(1,50,1)),\n",
    "    LeakyReLU(),\n",
    "    BatchNormalization(axis=1),\n",
    "    Dense(256),\n",
    "    LeakyReLU(),\n",
    "    BatchNormalization(axis=1),\n",
    "    Dense(512),\n",
    "    LeakyReLU(),\n",
    "    BatchNormalization(),\n",
    "    Dense(256),\n",
    "    LeakyReLU(),\n",
    "    BatchNormalization(axis=1),\n",
    "    Dropout(0.2),\n",
    "    Dense(1),\n",
    "    LeakyReLU()\n",
    "])\n",
    "\n",
    "D_model.compile(Adam(), loss=\"mean_squared_error\", metrics=['accuracy'])"
   ]
  },
  {
   "cell_type": "code",
   "execution_count": 51,
   "metadata": {},
   "outputs": [
    {
     "data": {
      "text/plain": [
       "(2477, 50, 1)"
      ]
     },
     "execution_count": 51,
     "metadata": {},
     "output_type": "execute_result"
    }
   ],
   "source": [
    "x_train.shape"
   ]
  },
  {
   "cell_type": "code",
   "execution_count": 52,
   "metadata": {},
   "outputs": [
    {
     "ename": "ValueError",
     "evalue": "Error when checking input: expected dense_81_input to have 4 dimensions, but got array with shape (2477, 50, 1)",
     "output_type": "error",
     "traceback": [
      "\u001b[1;31m---------------------------------------------------------------------------\u001b[0m",
      "\u001b[1;31mValueError\u001b[0m                                Traceback (most recent call last)",
      "\u001b[1;32m<ipython-input-52-8507f4229491>\u001b[0m in \u001b[0;36m<module>\u001b[1;34m\u001b[0m\n\u001b[1;32m----> 1\u001b[1;33m \u001b[0mD_history\u001b[0m \u001b[1;33m=\u001b[0m \u001b[0mD_model\u001b[0m\u001b[1;33m.\u001b[0m\u001b[0mfit\u001b[0m\u001b[1;33m(\u001b[0m\u001b[0mx_train\u001b[0m\u001b[1;33m,\u001b[0m\u001b[0my_train\u001b[0m\u001b[1;33m,\u001b[0m\u001b[0mepochs\u001b[0m\u001b[1;33m=\u001b[0m\u001b[1;36m100\u001b[0m\u001b[1;33m,\u001b[0m\u001b[0mbatch_size\u001b[0m\u001b[1;33m=\u001b[0m\u001b[1;36m64\u001b[0m\u001b[1;33m)\u001b[0m\u001b[1;33m\u001b[0m\u001b[1;33m\u001b[0m\u001b[0m\n\u001b[0m",
      "\u001b[1;32m~\\Anaconda3\\lib\\site-packages\\keras\\engine\\training.py\u001b[0m in \u001b[0;36mfit\u001b[1;34m(self, x, y, batch_size, epochs, verbose, callbacks, validation_split, validation_data, shuffle, class_weight, sample_weight, initial_epoch, steps_per_epoch, validation_steps, **kwargs)\u001b[0m\n\u001b[0;32m    950\u001b[0m             \u001b[0msample_weight\u001b[0m\u001b[1;33m=\u001b[0m\u001b[0msample_weight\u001b[0m\u001b[1;33m,\u001b[0m\u001b[1;33m\u001b[0m\u001b[1;33m\u001b[0m\u001b[0m\n\u001b[0;32m    951\u001b[0m             \u001b[0mclass_weight\u001b[0m\u001b[1;33m=\u001b[0m\u001b[0mclass_weight\u001b[0m\u001b[1;33m,\u001b[0m\u001b[1;33m\u001b[0m\u001b[1;33m\u001b[0m\u001b[0m\n\u001b[1;32m--> 952\u001b[1;33m             batch_size=batch_size)\n\u001b[0m\u001b[0;32m    953\u001b[0m         \u001b[1;31m# Prepare validation data.\u001b[0m\u001b[1;33m\u001b[0m\u001b[1;33m\u001b[0m\u001b[1;33m\u001b[0m\u001b[0m\n\u001b[0;32m    954\u001b[0m         \u001b[0mdo_validation\u001b[0m \u001b[1;33m=\u001b[0m \u001b[1;32mFalse\u001b[0m\u001b[1;33m\u001b[0m\u001b[1;33m\u001b[0m\u001b[0m\n",
      "\u001b[1;32m~\\Anaconda3\\lib\\site-packages\\keras\\engine\\training.py\u001b[0m in \u001b[0;36m_standardize_user_data\u001b[1;34m(self, x, y, sample_weight, class_weight, check_array_lengths, batch_size)\u001b[0m\n\u001b[0;32m    749\u001b[0m             \u001b[0mfeed_input_shapes\u001b[0m\u001b[1;33m,\u001b[0m\u001b[1;33m\u001b[0m\u001b[1;33m\u001b[0m\u001b[0m\n\u001b[0;32m    750\u001b[0m             \u001b[0mcheck_batch_axis\u001b[0m\u001b[1;33m=\u001b[0m\u001b[1;32mFalse\u001b[0m\u001b[1;33m,\u001b[0m  \u001b[1;31m# Don't enforce the batch size.\u001b[0m\u001b[1;33m\u001b[0m\u001b[1;33m\u001b[0m\u001b[0m\n\u001b[1;32m--> 751\u001b[1;33m             exception_prefix='input')\n\u001b[0m\u001b[0;32m    752\u001b[0m \u001b[1;33m\u001b[0m\u001b[0m\n\u001b[0;32m    753\u001b[0m         \u001b[1;32mif\u001b[0m \u001b[0my\u001b[0m \u001b[1;32mis\u001b[0m \u001b[1;32mnot\u001b[0m \u001b[1;32mNone\u001b[0m\u001b[1;33m:\u001b[0m\u001b[1;33m\u001b[0m\u001b[1;33m\u001b[0m\u001b[0m\n",
      "\u001b[1;32m~\\Anaconda3\\lib\\site-packages\\keras\\engine\\training_utils.py\u001b[0m in \u001b[0;36mstandardize_input_data\u001b[1;34m(data, names, shapes, check_batch_axis, exception_prefix)\u001b[0m\n\u001b[0;32m    126\u001b[0m                         \u001b[1;34m': expected '\u001b[0m \u001b[1;33m+\u001b[0m \u001b[0mnames\u001b[0m\u001b[1;33m[\u001b[0m\u001b[0mi\u001b[0m\u001b[1;33m]\u001b[0m \u001b[1;33m+\u001b[0m \u001b[1;34m' to have '\u001b[0m \u001b[1;33m+\u001b[0m\u001b[1;33m\u001b[0m\u001b[1;33m\u001b[0m\u001b[0m\n\u001b[0;32m    127\u001b[0m                         \u001b[0mstr\u001b[0m\u001b[1;33m(\u001b[0m\u001b[0mlen\u001b[0m\u001b[1;33m(\u001b[0m\u001b[0mshape\u001b[0m\u001b[1;33m)\u001b[0m\u001b[1;33m)\u001b[0m \u001b[1;33m+\u001b[0m \u001b[1;34m' dimensions, but got array '\u001b[0m\u001b[1;33m\u001b[0m\u001b[1;33m\u001b[0m\u001b[0m\n\u001b[1;32m--> 128\u001b[1;33m                         'with shape ' + str(data_shape))\n\u001b[0m\u001b[0;32m    129\u001b[0m                 \u001b[1;32mif\u001b[0m \u001b[1;32mnot\u001b[0m \u001b[0mcheck_batch_axis\u001b[0m\u001b[1;33m:\u001b[0m\u001b[1;33m\u001b[0m\u001b[1;33m\u001b[0m\u001b[0m\n\u001b[0;32m    130\u001b[0m                     \u001b[0mdata_shape\u001b[0m \u001b[1;33m=\u001b[0m \u001b[0mdata_shape\u001b[0m\u001b[1;33m[\u001b[0m\u001b[1;36m1\u001b[0m\u001b[1;33m:\u001b[0m\u001b[1;33m]\u001b[0m\u001b[1;33m\u001b[0m\u001b[1;33m\u001b[0m\u001b[0m\n",
      "\u001b[1;31mValueError\u001b[0m: Error when checking input: expected dense_81_input to have 4 dimensions, but got array with shape (2477, 50, 1)"
     ]
    }
   ],
   "source": [
    "D_history = D_model.fit(x_train,y_train,epochs=100,batch_size=64)"
   ]
  },
  {
   "cell_type": "code",
   "execution_count": 12,
   "metadata": {},
   "outputs": [],
   "source": [
    "es = EarlyStopping(monitor='val_loss',min_delta = 0.0005,patience =5,restore_best_weights=False)\n",
    "#cp = ModelCheckpoint(filepath ='best_model.h5', monitor='val_acc', verbose=1, save_best_only=True,save_weights_only=False, mode='max')\n",
    "#rLRoP = ReduceLROnPlateau(monitor='val_loss', factor=0.1, patience=10, verbose=0, mode='auto', min_delta=0.0001, cooldown=0, min_lr=0)\n",
    "\n",
    "callback = [es]#,cp,rLRoP];"
   ]
  },
  {
   "cell_type": "code",
   "execution_count": 13,
   "metadata": {
    "_uuid": "95e9302fe14e8af6e55d3c32775ba8e266b839cd",
    "scrolled": false
   },
   "outputs": [
    {
     "name": "stdout",
     "output_type": "stream",
     "text": [
      "WARNING:tensorflow:From C:\\Users\\vss\\Anaconda3\\lib\\site-packages\\tensorflow\\python\\framework\\op_def_library.py:263: colocate_with (from tensorflow.python.framework.ops) is deprecated and will be removed in a future version.\n",
      "Instructions for updating:\n",
      "Colocations handled automatically by placer.\n"
     ]
    }
   ],
   "source": [
    "regressor=Sequential()\n",
    "#first RNN layer\n",
    "regressor.add(SimpleRNN(20,activation=\"relu\",return_sequences=True,input_shape=(x_train.shape[1],1)))\n",
    "regressor.add(Dropout(1))\n",
    "#second RNN layer\n",
    "#regressor.add(SimpleRNN(256,activation=\"relu\",return_sequences=True))\n",
    "#regressor.add(Dropout(0.25))\n",
    "#third RNN layer\n",
    "#regressor.add(SimpleRNN(512,activation=\"relu\",return_sequences=True))\n",
    "#regressor.add(Dropout(0.35))\n",
    "#fourth RNN layer\n",
    "#regressor.add(SimpleRNN(256,activation=\"relu\",return_sequences=True))\n",
    "#regressor.add(Dropout(0.25))\n",
    "#fifth RNN layer\n",
    "regressor.add(SimpleRNN(20,activation=\"relu\",return_sequences=True))\n",
    "regressor.add(Dropout(1))\n",
    "#convert the matrix to 1-line\n",
    "regressor.add(Flatten())\n",
    "#output layer\n",
    "regressor.add(Dense(1))\n"
   ]
  },
  {
   "cell_type": "code",
   "execution_count": 14,
   "metadata": {},
   "outputs": [
    {
     "name": "stdout",
     "output_type": "stream",
     "text": [
      "WARNING:tensorflow:From C:\\Users\\vss\\Anaconda3\\lib\\site-packages\\tensorflow\\python\\ops\\math_ops.py:3066: to_int32 (from tensorflow.python.ops.math_ops) is deprecated and will be removed in a future version.\n",
      "Instructions for updating:\n",
      "Use tf.cast instead.\n",
      "Epoch 1/100\n",
      "2477/2477 [==============================] - 5s 2ms/step - loss: 0.0031 - acc: 8.0743e-04\n",
      "Epoch 2/100\n",
      " 448/2477 [====>.........................] - ETA: 0s - loss: 7.5567e-04 - acc: 0.0000e+00"
     ]
    },
    {
     "name": "stderr",
     "output_type": "stream",
     "text": [
      "C:\\Users\\vss\\Anaconda3\\lib\\site-packages\\keras\\callbacks.py:569: RuntimeWarning: Early stopping conditioned on metric `val_loss` which is not available. Available metrics are: loss,acc\n",
      "  (self.monitor, ','.join(list(logs.keys()))), RuntimeWarning\n"
     ]
    },
    {
     "name": "stdout",
     "output_type": "stream",
     "text": [
      "2477/2477 [==============================] - 1s 396us/step - loss: 9.7514e-04 - acc: 8.0743e-04\n",
      "Epoch 3/100\n",
      "2477/2477 [==============================] - 1s 387us/step - loss: 7.8550e-04 - acc: 8.0743e-04\n",
      "Epoch 4/100\n",
      "2477/2477 [==============================] - 1s 366us/step - loss: 6.9541e-04 - acc: 8.0743e-04\n",
      "Epoch 5/100\n",
      "2477/2477 [==============================] - 1s 370us/step - loss: 6.1959e-04 - acc: 8.0743e-04\n",
      "Epoch 6/100\n",
      "2477/2477 [==============================] - 1s 426us/step - loss: 5.4319e-04 - acc: 8.0743e-04\n",
      "Epoch 7/100\n",
      "2477/2477 [==============================] - 1s 380us/step - loss: 5.3132e-04 - acc: 8.0743e-04\n",
      "Epoch 8/100\n",
      "2477/2477 [==============================] - 1s 371us/step - loss: 4.1827e-04 - acc: 8.0743e-04\n",
      "Epoch 9/100\n",
      "2477/2477 [==============================] - 1s 369us/step - loss: 3.7672e-04 - acc: 8.0743e-04\n",
      "Epoch 10/100\n",
      "2477/2477 [==============================] - 1s 430us/step - loss: 3.7744e-04 - acc: 8.0743e-04\n",
      "Epoch 11/100\n",
      "2477/2477 [==============================] - 1s 379us/step - loss: 3.0742e-04 - acc: 8.0743e-04\n",
      "Epoch 12/100\n",
      "2477/2477 [==============================] - 1s 369us/step - loss: 2.9506e-04 - acc: 8.0743e-04\n",
      "Epoch 13/100\n",
      "2477/2477 [==============================] - 1s 370us/step - loss: 2.3136e-04 - acc: 8.0743e-04\n",
      "Epoch 14/100\n",
      "2477/2477 [==============================] - 1s 387us/step - loss: 3.2526e-04 - acc: 8.0743e-04\n",
      "Epoch 15/100\n",
      "2477/2477 [==============================] - 1s 374us/step - loss: 3.0752e-04 - acc: 8.0743e-04\n",
      "Epoch 16/100\n",
      "2477/2477 [==============================] - 1s 373us/step - loss: 2.4210e-04 - acc: 8.0743e-04\n",
      "Epoch 17/100\n",
      "2477/2477 [==============================] - 1s 370us/step - loss: 2.0726e-04 - acc: 8.0743e-04\n",
      "Epoch 18/100\n",
      "2477/2477 [==============================] - 1s 390us/step - loss: 1.9836e-04 - acc: 8.0743e-04\n",
      "Epoch 19/100\n",
      "2477/2477 [==============================] - 1s 406us/step - loss: 1.9250e-04 - acc: 8.0743e-04\n",
      "Epoch 20/100\n",
      "2477/2477 [==============================] - 1s 412us/step - loss: 1.8157e-04 - acc: 8.0743e-04 0s - loss: 3.2799e-04 - \n",
      "Epoch 21/100\n",
      "2477/2477 [==============================] - 1s 397us/step - loss: 1.7451e-04 - acc: 8.0743e-04\n",
      "Epoch 22/100\n",
      "2477/2477 [==============================] - 1s 420us/step - loss: 1.8350e-04 - acc: 8.0743e-04\n",
      "Epoch 23/100\n",
      "2477/2477 [==============================] - 1s 420us/step - loss: 2.7119e-04 - acc: 8.0743e-04\n",
      "Epoch 24/100\n",
      "2477/2477 [==============================] - 1s 389us/step - loss: 1.7600e-04 - acc: 8.0743e-04\n",
      "Epoch 25/100\n",
      "2477/2477 [==============================] - 1s 374us/step - loss: 1.9171e-04 - acc: 8.0743e-04\n",
      "Epoch 26/100\n",
      "2477/2477 [==============================] - 1s 399us/step - loss: 1.5670e-04 - acc: 8.0743e-04\n",
      "Epoch 27/100\n",
      "2477/2477 [==============================] - 1s 406us/step - loss: 1.7843e-04 - acc: 8.0743e-04\n",
      "Epoch 28/100\n",
      "2477/2477 [==============================] - 1s 394us/step - loss: 2.0353e-04 - acc: 8.0743e-04\n",
      "Epoch 29/100\n",
      "2477/2477 [==============================] - 1s 415us/step - loss: 1.4679e-04 - acc: 8.0743e-04\n",
      "Epoch 30/100\n",
      "2477/2477 [==============================] - 1s 400us/step - loss: 1.7413e-04 - acc: 8.0743e-04\n",
      "Epoch 31/100\n",
      "2477/2477 [==============================] - 1s 374us/step - loss: 1.5799e-04 - acc: 8.0743e-04\n",
      "Epoch 32/100\n",
      "2477/2477 [==============================] - 1s 412us/step - loss: 1.6151e-04 - acc: 8.0743e-04\n",
      "Epoch 33/100\n",
      "2477/2477 [==============================] - 1s 396us/step - loss: 1.5947e-04 - acc: 8.0743e-04\n",
      "Epoch 34/100\n",
      "2477/2477 [==============================] - 1s 383us/step - loss: 1.4947e-04 - acc: 8.0743e-04\n",
      "Epoch 35/100\n",
      "2477/2477 [==============================] - 1s 361us/step - loss: 1.3480e-04 - acc: 8.0743e-04\n",
      "Epoch 36/100\n",
      "2477/2477 [==============================] - 1s 364us/step - loss: 1.5847e-04 - acc: 8.0743e-04\n",
      "Epoch 37/100\n",
      "2477/2477 [==============================] - 1s 366us/step - loss: 1.3453e-04 - acc: 8.0743e-04\n",
      "Epoch 38/100\n",
      "2477/2477 [==============================] - 1s 389us/step - loss: 1.3175e-04 - acc: 8.0743e-04\n",
      "Epoch 39/100\n",
      "2477/2477 [==============================] - 1s 389us/step - loss: 1.1616e-04 - acc: 8.0743e-04\n",
      "Epoch 40/100\n",
      "2477/2477 [==============================] - 1s 378us/step - loss: 1.1577e-04 - acc: 8.0743e-04\n",
      "Epoch 41/100\n",
      "2477/2477 [==============================] - 1s 392us/step - loss: 1.4804e-04 - acc: 8.0743e-04\n",
      "Epoch 42/100\n",
      "2477/2477 [==============================] - 1s 343us/step - loss: 1.4358e-04 - acc: 8.0743e-04\n",
      "Epoch 43/100\n",
      "2477/2477 [==============================] - 1s 419us/step - loss: 1.3041e-04 - acc: 8.0743e-04\n",
      "Epoch 44/100\n",
      "2477/2477 [==============================] - 1s 389us/step - loss: 1.4235e-04 - acc: 8.0743e-04\n",
      "Epoch 45/100\n",
      "2477/2477 [==============================] - 1s 375us/step - loss: 1.1212e-04 - acc: 8.0743e-04\n",
      "Epoch 46/100\n",
      "2477/2477 [==============================] - 1s 367us/step - loss: 1.4495e-04 - acc: 8.0743e-04\n",
      "Epoch 47/100\n",
      "2477/2477 [==============================] - 1s 375us/step - loss: 1.2094e-04 - acc: 8.0743e-04\n",
      "Epoch 48/100\n",
      "2477/2477 [==============================] - 1s 359us/step - loss: 2.3611e-04 - acc: 8.0743e-04\n",
      "Epoch 49/100\n",
      "2477/2477 [==============================] - 1s 357us/step - loss: 1.0825e-04 - acc: 8.0743e-04\n",
      "Epoch 50/100\n",
      "2477/2477 [==============================] - 1s 353us/step - loss: 1.6552e-04 - acc: 8.0743e-04\n",
      "Epoch 51/100\n",
      "2477/2477 [==============================] - 1s 361us/step - loss: 1.4380e-04 - acc: 8.0743e-04\n",
      "Epoch 52/100\n",
      "2477/2477 [==============================] - 1s 360us/step - loss: 1.1229e-04 - acc: 8.0743e-04\n",
      "Epoch 53/100\n",
      "2477/2477 [==============================] - 1s 356us/step - loss: 1.1921e-04 - acc: 8.0743e-04\n",
      "Epoch 54/100\n",
      "2477/2477 [==============================] - 1s 360us/step - loss: 1.0170e-04 - acc: 8.0743e-04\n",
      "Epoch 55/100\n",
      "2477/2477 [==============================] - 1s 357us/step - loss: 9.9877e-05 - acc: 8.0743e-04\n",
      "Epoch 56/100\n",
      "2477/2477 [==============================] - 1s 357us/step - loss: 1.0402e-04 - acc: 8.0743e-04\n",
      "Epoch 57/100\n",
      "2477/2477 [==============================] - 1s 357us/step - loss: 1.1657e-04 - acc: 8.0743e-04\n",
      "Epoch 58/100\n",
      "2477/2477 [==============================] - 1s 365us/step - loss: 1.0620e-04 - acc: 8.0743e-04\n",
      "Epoch 59/100\n",
      "2477/2477 [==============================] - 1s 374us/step - loss: 1.0066e-04 - acc: 8.0743e-04\n",
      "Epoch 60/100\n",
      "2477/2477 [==============================] - 1s 368us/step - loss: 1.0042e-04 - acc: 8.0743e-04\n",
      "Epoch 61/100\n",
      "2477/2477 [==============================] - 1s 374us/step - loss: 1.0473e-04 - acc: 8.0743e-04\n",
      "Epoch 62/100\n",
      "2477/2477 [==============================] - 1s 366us/step - loss: 1.3379e-04 - acc: 8.0743e-04\n",
      "Epoch 63/100\n",
      "2477/2477 [==============================] - 1s 370us/step - loss: 1.0372e-04 - acc: 8.0743e-04\n",
      "Epoch 64/100\n",
      "2477/2477 [==============================] - 1s 376us/step - loss: 1.0894e-04 - acc: 8.0743e-04\n",
      "Epoch 65/100\n",
      "2477/2477 [==============================] - 1s 382us/step - loss: 1.3696e-04 - acc: 8.0743e-04\n",
      "Epoch 66/100\n",
      "2477/2477 [==============================] - 1s 372us/step - loss: 1.1990e-04 - acc: 8.0743e-04\n",
      "Epoch 67/100\n",
      "2477/2477 [==============================] - 1s 370us/step - loss: 9.8218e-05 - acc: 8.0743e-04\n",
      "Epoch 68/100\n",
      "2477/2477 [==============================] - 1s 374us/step - loss: 1.0254e-04 - acc: 8.0743e-04\n",
      "Epoch 69/100\n",
      "2477/2477 [==============================] - 1s 375us/step - loss: 1.0837e-04 - acc: 8.0743e-04\n",
      "Epoch 70/100\n",
      "2477/2477 [==============================] - 1s 372us/step - loss: 1.2068e-04 - acc: 8.0743e-04\n",
      "Epoch 71/100\n",
      "2477/2477 [==============================] - 1s 378us/step - loss: 1.0049e-04 - acc: 8.0743e-04\n",
      "Epoch 72/100\n",
      "2477/2477 [==============================] - 1s 368us/step - loss: 1.0566e-04 - acc: 8.0743e-04\n",
      "Epoch 73/100\n",
      "2477/2477 [==============================] - 1s 370us/step - loss: 1.0972e-04 - acc: 8.0743e-04\n",
      "Epoch 74/100\n",
      "2477/2477 [==============================] - 1s 369us/step - loss: 1.1073e-04 - acc: 8.0743e-04\n",
      "Epoch 75/100\n",
      "2477/2477 [==============================] - 1s 364us/step - loss: 1.1138e-04 - acc: 8.0743e-04\n",
      "Epoch 76/100\n",
      "2477/2477 [==============================] - 1s 376us/step - loss: 1.0924e-04 - acc: 8.0743e-04\n",
      "Epoch 77/100\n"
     ]
    },
    {
     "name": "stdout",
     "output_type": "stream",
     "text": [
      "2477/2477 [==============================] - 1s 364us/step - loss: 1.1220e-04 - acc: 8.0743e-04\n",
      "Epoch 78/100\n",
      "2477/2477 [==============================] - 1s 363us/step - loss: 1.1403e-04 - acc: 8.0743e-04\n",
      "Epoch 79/100\n",
      "2477/2477 [==============================] - 1s 357us/step - loss: 1.2474e-04 - acc: 8.0743e-04\n",
      "Epoch 80/100\n",
      "2477/2477 [==============================] - 1s 358us/step - loss: 9.1347e-05 - acc: 8.0743e-04\n",
      "Epoch 81/100\n",
      "2477/2477 [==============================] - 1s 366us/step - loss: 8.6809e-05 - acc: 8.0743e-04\n",
      "Epoch 82/100\n",
      "2477/2477 [==============================] - 1s 361us/step - loss: 8.9977e-05 - acc: 8.0743e-04\n",
      "Epoch 83/100\n",
      "2477/2477 [==============================] - 1s 362us/step - loss: 9.8163e-05 - acc: 8.0743e-04\n",
      "Epoch 84/100\n",
      "2477/2477 [==============================] - 1s 363us/step - loss: 1.0328e-04 - acc: 8.0743e-04\n",
      "Epoch 85/100\n",
      "2477/2477 [==============================] - 1s 362us/step - loss: 9.0657e-05 - acc: 8.0743e-04\n",
      "Epoch 86/100\n",
      "2477/2477 [==============================] - 1s 364us/step - loss: 9.3130e-05 - acc: 8.0743e-04\n",
      "Epoch 87/100\n",
      "2477/2477 [==============================] - 1s 367us/step - loss: 8.8649e-05 - acc: 8.0743e-04\n",
      "Epoch 88/100\n",
      "2477/2477 [==============================] - 1s 366us/step - loss: 1.0303e-04 - acc: 8.0743e-04\n",
      "Epoch 89/100\n",
      "2477/2477 [==============================] - 1s 358us/step - loss: 9.6671e-05 - acc: 8.0743e-04\n",
      "Epoch 90/100\n",
      "2477/2477 [==============================] - 1s 361us/step - loss: 1.1095e-04 - acc: 8.0743e-04\n",
      "Epoch 91/100\n",
      "2477/2477 [==============================] - 1s 368us/step - loss: 1.0579e-04 - acc: 8.0743e-04\n",
      "Epoch 92/100\n",
      "2477/2477 [==============================] - 1s 362us/step - loss: 1.0716e-04 - acc: 8.0743e-04\n",
      "Epoch 93/100\n",
      "2477/2477 [==============================] - 1s 364us/step - loss: 1.4585e-04 - acc: 8.0743e-04\n",
      "Epoch 94/100\n",
      "2477/2477 [==============================] - 1s 362us/step - loss: 1.0832e-04 - acc: 8.0743e-04\n",
      "Epoch 95/100\n",
      "2477/2477 [==============================] - 1s 397us/step - loss: 9.8139e-05 - acc: 8.0743e-04\n",
      "Epoch 96/100\n",
      "2477/2477 [==============================] - 1s 363us/step - loss: 8.9704e-05 - acc: 8.0743e-04\n",
      "Epoch 97/100\n",
      "2477/2477 [==============================] - 1s 360us/step - loss: 9.9382e-05 - acc: 8.0743e-04\n",
      "Epoch 98/100\n",
      "2477/2477 [==============================] - 1s 366us/step - loss: 1.0912e-04 - acc: 8.0743e-04\n",
      "Epoch 99/100\n",
      "2477/2477 [==============================] - 1s 362us/step - loss: 9.8291e-05 - acc: 8.0743e-04\n",
      "Epoch 100/100\n",
      "2477/2477 [==============================] - 1s 368us/step - loss: 9.0544e-05 - acc: 8.0743e-04\n"
     ]
    }
   ],
   "source": [
    "regressor.compile(optimizer=\"adam\",loss=\"mean_squared_error\",metrics=['accuracy'])\n",
    "R_history = regressor.fit(x_train,y_train,epochs=100,batch_size=64, callbacks = callback)"
   ]
  },
  {
   "cell_type": "code",
   "execution_count": 15,
   "metadata": {},
   "outputs": [
    {
     "name": "stdout",
     "output_type": "stream",
     "text": [
      "dict_keys(['loss', 'acc'])\n"
     ]
    }
   ],
   "source": [
    "print(R_history.history.keys())"
   ]
  },
  {
   "cell_type": "code",
   "execution_count": 20,
   "metadata": {},
   "outputs": [
    {
     "data": {
      "image/png": "[encoded data removed]",
      "text/plain": [
       "<Figure size 640x480 with 1 Axes>"
      ]
     },
     "metadata": {},
     "output_type": "display_data"
    }
   ],
   "source": [
    "plt.figure(figsize=(8,6), dpi=80, facecolor='w', edgecolor='k')\n",
    "plt.plot(R_history.history[\"loss\"],color=\"r\",label=\"Loss\")\n",
    "#plt.plot(R_history.history[\"acc\"],color=\"b\",label=\"Accur\")\n",
    "plt.legend()\n",
    "plt.xlabel(\"Iterations\")\n",
    "plt.ylabel(\"loss\")\n",
    "plt.grid(True)\n",
    "plt.show()"
   ]
  },
  {
   "cell_type": "markdown",
   "metadata": {
    "_uuid": "0d1786f25bf66d0e666d23252377b5bff9196a70"
   },
   "source": [
    "Now we are preparing our test data for prediction"
   ]
  },
  {
   "cell_type": "code",
   "execution_count": 21,
   "metadata": {
    "_uuid": "789694f60ef54c6fe588978c7917c05f140f501e"
   },
   "outputs": [],
   "source": [
    "inputs=data[len(data)-len(close_test)-timestep:]\n",
    "inputs=inputs.values.reshape(-1,1)\n",
    "inputs=scaler.transform(inputs)"
   ]
  },
  {
   "cell_type": "code",
   "execution_count": 22,
   "metadata": {
    "_uuid": "b64f25de4f2c3d3e97ff67430e63b730808fb29b"
   },
   "outputs": [
    {
     "data": {
      "text/plain": [
       "(100, 50, 1)"
      ]
     },
     "execution_count": 22,
     "metadata": {},
     "output_type": "execute_result"
    }
   ],
   "source": [
    "x_test=[]\n",
    "for i in range(timestep,inputs.shape[0]):\n",
    "    x_test.append(inputs[i-timestep:i,0])\n",
    "x_test=np.array(x_test)\n",
    "x_test=x_test.reshape(x_test.shape[0],x_test.shape[1],1)\n",
    "x_test.shape"
   ]
  },
  {
   "cell_type": "code",
   "execution_count": 23,
   "metadata": {
    "_uuid": "ab9b3f5f19e8cdb8b6fa1be54e710fba4b4281dd"
   },
   "outputs": [],
   "source": [
    "predicted_data_RNN=regressor.predict(x_test)\n",
    "predicted_data_RNN=scaler.inverse_transform(predicted_data_RNN)"
   ]
  },
  {
   "cell_type": "markdown",
   "metadata": {
    "_uuid": "84126a12f90fb2bea6a543dfea7c9225216bca32"
   },
   "source": [
    "**What did we do???? We learnt our model with train datas and then we tried to predict next 50 datas (train data=50). Then we compared predictions with our test (real) datas.**"
   ]
  },
  {
   "cell_type": "code",
   "execution_count": 24,
   "metadata": {
    "_uuid": "e37a1a9195ba81668ee00aa47b98bda8a2e549c2"
   },
   "outputs": [],
   "source": [
    "data_test=np.array(close_test)\n",
    "data_test=data_test.reshape(len(data_test),1)"
   ]
  },
  {
   "cell_type": "code",
   "execution_count": 29,
   "metadata": {
    "_uuid": "d14bd8d6dc5dea3a2cd0b807652f41d9a34a28d1",
    "scrolled": true
   },
   "outputs": [],
   "source": [
    "#plt.figure(figsize=(8,4), dpi=80, facecolor='w', edgecolor='k')\n",
    "#plt.plot(data_test,color=\"r\",label=\"true result\")\n",
    "#plt.plot(predicted_data_RNN,color=\"b\",label=\"predicted result_RNN\")\n",
    "#plt.legend()\n",
    "#plt.xlabel(\"Time(50 days)\")\n",
    "#plt.ylabel(\"Close Values\")\n",
    "#plt.grid(True)\n",
    "#plt.show()"
   ]
  },
  {
   "cell_type": "markdown",
   "metadata": {
    "_uuid": "d6a9163de2304f9bceb4e4d3337ae7347a1c1144"
   },
   "source": [
    "Here we have the results of our prediction. As we can see on the chart that with RNN method we don't have a good result. So let's check LSTM method, then we can compare both results."
   ]
  },
  {
   "cell_type": "markdown",
   "metadata": {
    "_uuid": "a86a7a09336182de5b84b8fd747c47216090f712"
   },
   "source": [
    "**Keep going with LSTM method**"
   ]
  },
  {
   "cell_type": "markdown",
   "metadata": {
    "_uuid": "6fbf6c5708d1ffba850644a767a33192fdd2cdd7"
   },
   "source": [
    "I will use the same train and test datas"
   ]
  },
  {
   "cell_type": "code",
   "execution_count": 25,
   "metadata": {
    "_uuid": "6b20a92dc41d1e62aaea366a4d0c96afe0dab1e3",
    "scrolled": false
   },
   "outputs": [],
   "source": [
    "from sklearn.metrics import mean_absolute_error\n",
    "from keras.models import Sequential\n",
    "from keras.layers import Dense, LSTM, Dropout,Flatten\n"
   ]
  },
  {
   "cell_type": "code",
   "execution_count": 26,
   "metadata": {},
   "outputs": [
    {
     "data": {
      "text/plain": [
       "(2477, 50, 1)"
      ]
     },
     "execution_count": 26,
     "metadata": {},
     "output_type": "execute_result"
    }
   ],
   "source": [
    "x_train.shape"
   ]
  },
  {
   "cell_type": "code",
   "execution_count": 29,
   "metadata": {},
   "outputs": [],
   "source": [
    "model=Sequential()\n",
    "\n",
    "model.add(LSTM(30,activation=\"relu\",input_shape=(None,1)))\n",
    "\n",
    "model.add(Dense(1))"
   ]
  },
  {
   "cell_type": "code",
   "execution_count": 30,
   "metadata": {},
   "outputs": [
    {
     "name": "stdout",
     "output_type": "stream",
     "text": [
      "Epoch 1/100\n",
      "2477/2477 [==============================] - 5s 2ms/step - loss: 0.0123 - acc: 8.0743e-04\n",
      "Epoch 2/100\n",
      "2477/2477 [==============================] - 3s 1ms/step - loss: 7.8297e-04 - acc: 8.0743e-04\n",
      "Epoch 3/100\n",
      "2477/2477 [==============================] - 3s 1ms/step - loss: 6.0359e-04 - acc: 8.0743e-04\n",
      "Epoch 4/100\n",
      "2477/2477 [==============================] - 4s 1ms/step - loss: 4.5562e-04 - acc: 8.0743e-04\n",
      "Epoch 5/100\n",
      "2477/2477 [==============================] - 3s 1ms/step - loss: 4.1067e-04 - acc: 8.0743e-04\n",
      "Epoch 6/100\n",
      "2477/2477 [==============================] - 4s 1ms/step - loss: 3.8698e-04 - acc: 8.0743e-04\n",
      "Epoch 7/100\n",
      "2477/2477 [==============================] - 4s 1ms/step - loss: 3.6582e-04 - acc: 8.0743e-04\n",
      "Epoch 8/100\n",
      "2477/2477 [==============================] - 3s 1ms/step - loss: 3.5959e-04 - acc: 8.0743e-04\n",
      "Epoch 9/100\n",
      "2477/2477 [==============================] - 3s 1ms/step - loss: 3.2228e-04 - acc: 8.0743e-04\n",
      "Epoch 10/100\n",
      "2477/2477 [==============================] - 3s 1ms/step - loss: 3.0585e-04 - acc: 8.0743e-04\n",
      "Epoch 11/100\n",
      "2477/2477 [==============================] - 3s 1ms/step - loss: 2.9065e-04 - acc: 8.0743e-04\n",
      "Epoch 12/100\n",
      "2477/2477 [==============================] - 3s 1ms/step - loss: 3.1477e-04 - acc: 8.0743e-04\n",
      "Epoch 13/100\n",
      "2477/2477 [==============================] - 3s 1ms/step - loss: 2.6986e-04 - acc: 8.0743e-04\n",
      "Epoch 14/100\n",
      "2477/2477 [==============================] - 3s 1ms/step - loss: 2.6236e-04 - acc: 8.0743e-04\n",
      "Epoch 15/100\n",
      "2477/2477 [==============================] - 4s 2ms/step - loss: 2.3906e-04 - acc: 8.0743e-04\n",
      "Epoch 16/100\n",
      "2477/2477 [==============================] - 5s 2ms/step - loss: 2.3932e-04 - acc: 8.0743e-04\n",
      "Epoch 17/100\n",
      "2477/2477 [==============================] - 4s 2ms/step - loss: 2.1566e-04 - acc: 8.0743e-04\n",
      "Epoch 18/100\n",
      "2477/2477 [==============================] - 4s 2ms/step - loss: 2.2198e-04 - acc: 8.0743e-04\n",
      "Epoch 19/100\n",
      "2477/2477 [==============================] - 4s 1ms/step - loss: 2.2293e-04 - acc: 8.0743e-04\n",
      "Epoch 20/100\n",
      "2477/2477 [==============================] - 4s 2ms/step - loss: 2.0481e-04 - acc: 8.0743e-04\n",
      "Epoch 21/100\n",
      "2477/2477 [==============================] - 4s 2ms/step - loss: 2.0949e-04 - acc: 8.0743e-04A: 3s - loss: 1.9880e-04 - acc: 0 -\n",
      "Epoch 22/100\n",
      "2477/2477 [==============================] - 4s 2ms/step - loss: 1.9394e-04 - acc: 8.0743e-04\n",
      "Epoch 23/100\n",
      "2477/2477 [==============================] - 4s 2ms/step - loss: 2.0707e-04 - acc: 8.0743e-04\n",
      "Epoch 24/100\n",
      "2477/2477 [==============================] - 4s 2ms/step - loss: 1.8499e-04 - acc: 8.0743e-04\n",
      "Epoch 25/100\n",
      "2477/2477 [==============================] - 4s 2ms/step - loss: 1.8287e-04 - acc: 8.0743e-04\n",
      "Epoch 26/100\n",
      "2477/2477 [==============================] - 4s 2ms/step - loss: 1.8986e-04 - acc: 8.0743e-04\n",
      "Epoch 27/100\n",
      "2477/2477 [==============================] - 4s 2ms/step - loss: 1.7457e-04 - acc: 8.0743e-04A: 3s - loss: 1.2577e-04 - ETA: 2s - loss: \n",
      "Epoch 28/100\n",
      "2477/2477 [==============================] - 4s 2ms/step - loss: 1.7700e-04 - acc: 8.0743e-04\n",
      "Epoch 29/100\n",
      "2477/2477 [==============================] - 4s 2ms/step - loss: 1.8179e-04 - acc: 8.0743e-04A: \n",
      "Epoch 30/100\n",
      "2477/2477 [==============================] - 4s 2ms/step - loss: 1.7568e-04 - acc: 8.0743e-04\n",
      "Epoch 31/100\n",
      "2477/2477 [==============================] - 4s 2ms/step - loss: 1.6780e-04 - acc: 8.0743e-04\n",
      "Epoch 32/100\n",
      "2477/2477 [==============================] - 4s 1ms/step - loss: 1.6627e-04 - acc: 8.0743e-04\n",
      "Epoch 33/100\n",
      "2477/2477 [==============================] - 4s 1ms/step - loss: 1.5296e-04 - acc: 8.0743e-04\n",
      "Epoch 34/100\n",
      "2477/2477 [==============================] - 4s 1ms/step - loss: 1.7287e-04 - acc: 8.0743e-04\n",
      "Epoch 35/100\n",
      "2477/2477 [==============================] - 4s 1ms/step - loss: 1.7613e-04 - acc: 8.0743e-04\n",
      "Epoch 36/100\n",
      "2477/2477 [==============================] - 4s 1ms/step - loss: 1.5865e-04 - acc: 8.0743e-04\n",
      "Epoch 37/100\n",
      "2477/2477 [==============================] - 4s 2ms/step - loss: 1.6867e-04 - acc: 8.0743e-04\n",
      "Epoch 38/100\n",
      "2477/2477 [==============================] - 4s 2ms/step - loss: 1.4831e-04 - acc: 8.0743e-04s - loss: 1.5303e-04 - acc: 9.4697e- - ETA: 1s - loss: 1.6786\n",
      "Epoch 39/100\n",
      "2477/2477 [==============================] - 4s 1ms/step - loss: 1.4864e-04 - acc: 8.0743e-04\n",
      "Epoch 40/100\n",
      "2477/2477 [==============================] - 4s 1ms/step - loss: 1.6191e-04 - acc: 8.0743e-04A: 3s - \n",
      "Epoch 41/100\n",
      "2477/2477 [==============================] - 4s 2ms/step - loss: 1.5754e-04 - acc: 8.0743e-04\n",
      "Epoch 42/100\n",
      "2477/2477 [==============================] - 4s 1ms/step - loss: 1.5402e-04 - acc: 8.0743e-04\n",
      "Epoch 43/100\n",
      "2477/2477 [==============================] - 4s 1ms/step - loss: 1.6299e-04 - acc: 8.0743e-04\n",
      "Epoch 44/100\n",
      "2477/2477 [==============================] - 4s 2ms/step - loss: 1.3959e-04 - acc: 8.0743e-04\n",
      "Epoch 45/100\n",
      "2477/2477 [==============================] - 4s 1ms/step - loss: 1.6255e-04 - acc: 8.0743e-04s - loss: 1.7910e-04 - a\n",
      "Epoch 46/100\n",
      "2477/2477 [==============================] - 4s 2ms/step - loss: 1.4518e-04 - acc: 8.0743e-04\n",
      "Epoch 47/100\n",
      "2477/2477 [==============================] - 4s 1ms/step - loss: 1.4228e-04 - acc: 8.0743e-04\n",
      "Epoch 48/100\n",
      "2477/2477 [==============================] - 4s 1ms/step - loss: 1.4381e-04 - acc: 8.0743e-04\n",
      "Epoch 49/100\n",
      "2477/2477 [==============================] - 4s 2ms/step - loss: 1.4263e-04 - acc: 8.0743e-04\n",
      "Epoch 50/100\n",
      "2477/2477 [==============================] - 4s 1ms/step - loss: 1.5246e-04 - acc: 8.0743e-04\n",
      "Epoch 51/100\n",
      "2477/2477 [==============================] - 4s 1ms/step - loss: 1.2987e-04 - acc: 8.0743e-04\n",
      "Epoch 52/100\n",
      "2477/2477 [==============================] - 4s 1ms/step - loss: 1.3637e-04 - acc: 8.0743e-04\n",
      "Epoch 53/100\n",
      "2477/2477 [==============================] - 4s 1ms/step - loss: 1.3467e-04 - acc: 8.0743e-04\n",
      "Epoch 54/100\n",
      "2477/2477 [==============================] - 4s 1ms/step - loss: 1.4607e-04 - acc: 8.0743e-04\n",
      "Epoch 55/100\n",
      "2477/2477 [==============================] - 4s 1ms/step - loss: 1.3360e-04 - acc: 8.0743e-04A: 0s - loss: 1.1624e-04 - a\n",
      "Epoch 56/100\n",
      "2477/2477 [==============================] - 4s 1ms/step - loss: 1.3173e-04 - acc: 8.0743e-04A: 2s - \n",
      "Epoch 57/100\n",
      "2477/2477 [==============================] - 4s 2ms/step - loss: 1.3132e-04 - acc: 8.0743e-04A: 0s - loss: 1.2372e-04 - acc: 8.928\n",
      "Epoch 58/100\n",
      "2477/2477 [==============================] - 4s 1ms/step - loss: 1.1869e-04 - acc: 8.0743e-04\n",
      "Epoch 59/100\n",
      "2477/2477 [==============================] - 4s 1ms/step - loss: 1.3226e-04 - acc: 8.0743e-04\n",
      "Epoch 60/100\n",
      "2477/2477 [==============================] - 4s 1ms/step - loss: 1.2205e-04 - acc: 8.0743e-04\n",
      "Epoch 61/100\n",
      "2477/2477 [==============================] - 4s 1ms/step - loss: 1.3141e-04 - acc: 8.0743e-04\n",
      "Epoch 62/100\n",
      "2477/2477 [==============================] - 4s 1ms/step - loss: 1.1896e-04 - acc: 8.0743e-04\n",
      "Epoch 63/100\n",
      "2477/2477 [==============================] - 4s 1ms/step - loss: 1.2543e-04 - acc: 8.0743e-04\n",
      "Epoch 64/100\n",
      "2477/2477 [==============================] - 3s 1ms/step - loss: 1.2054e-04 - acc: 8.0743e-04\n",
      "Epoch 65/100\n",
      "2477/2477 [==============================] - 3s 1ms/step - loss: 1.1694e-04 - acc: 8.0743e-04\n",
      "Epoch 66/100\n",
      "2477/2477 [==============================] - 4s 1ms/step - loss: 1.1508e-04 - acc: 8.0743e-04\n",
      "Epoch 67/100\n",
      "2477/2477 [==============================] - 4s 1ms/step - loss: 1.0605e-04 - acc: 8.0743e-04\n",
      "Epoch 68/100\n",
      "2477/2477 [==============================] - 4s 1ms/step - loss: 1.1637e-04 - acc: 8.0743e-04A: 1s - loss: 1.1757e-04 - a\n",
      "Epoch 69/100\n",
      "2477/2477 [==============================] - 4s 1ms/step - loss: 1.1161e-04 - acc: 8.0743e-04\n",
      "Epoch 70/100\n",
      "2477/2477 [==============================] - 4s 1ms/step - loss: 1.0822e-04 - acc: 8.0743e-04\n",
      "Epoch 71/100\n",
      "2477/2477 [==============================] - 3s 1ms/step - loss: 1.2143e-04 - acc: 8.0743e-04\n",
      "Epoch 72/100\n",
      "2477/2477 [==============================] - 3s 1ms/step - loss: 1.1254e-04 - acc: 8.0743e-04\n",
      "Epoch 73/100\n",
      "2477/2477 [==============================] - 4s 1ms/step - loss: 1.3809e-04 - acc: 8.0743e-04A: 0s - loss: 1.3722e-04 - acc: 5\n",
      "Epoch 74/100\n",
      "2477/2477 [==============================] - 4s 2ms/step - loss: 1.1535e-04 - acc: 8.0743e-04\n",
      "Epoch 75/100\n",
      "2477/2477 [==============================] - 4s 1ms/step - loss: 1.0813e-04 - acc: 8.0743e-04\n",
      "Epoch 76/100\n",
      "2477/2477 [==============================] - 4s 1ms/step - loss: 1.0781e-04 - acc: 8.0743e-04\n",
      "Epoch 77/100\n",
      "2477/2477 [==============================] - 4s 1ms/step - loss: 1.0420e-04 - acc: 8.0743e-04\n",
      "Epoch 78/100\n",
      "2477/2477 [==============================] - 4s 2ms/step - loss: 1.0471e-04 - acc: 8.0743e-04A: 1s - \n",
      "Epoch 79/100\n",
      "2477/2477 [==============================] - 4s 2ms/step - loss: 1.0569e-04 - acc: 8.0743e-04\n",
      "Epoch 80/100\n",
      "2477/2477 [==============================] - 4s 1ms/step - loss: 1.0752e-04 - acc: 8.0743e-04\n",
      "Epoch 81/100\n",
      "2477/2477 [==============================] - 4s 1ms/step - loss: 1.1318e-04 - acc: 8.0743e-04A:\n",
      "Epoch 82/100\n",
      "2477/2477 [==============================] - 4s 1ms/step - loss: 1.0431e-04 - acc: 8.0743e-04\n",
      "Epoch 83/100\n",
      "2477/2477 [==============================] - 3s 1ms/step - loss: 1.0266e-04 - acc: 8.0743e-04\n",
      "Epoch 84/100\n",
      "2477/2477 [==============================] - 3s 1ms/step - loss: 1.1712e-04 - acc: 8.0743e-04\n",
      "Epoch 85/100\n",
      "2477/2477 [==============================] - 4s 1ms/step - loss: 9.7200e-05 - acc: 8.0743e-04\n",
      "Epoch 86/100\n",
      "2477/2477 [==============================] - 4s 1ms/step - loss: 1.1096e-04 - acc: 8.0743e-04\n",
      "Epoch 87/100\n",
      "2477/2477 [==============================] - 4s 1ms/step - loss: 1.0179e-04 - acc: 8.0743e-04\n",
      "Epoch 88/100\n",
      "2477/2477 [==============================] - 4s 1ms/step - loss: 1.1023e-04 - acc: 8.0743e-04\n",
      "Epoch 89/100\n",
      "2477/2477 [==============================] - 4s 1ms/step - loss: 1.0764e-04 - acc: 8.0743e-04A: 1s - loss: 1.0955e\n",
      "Epoch 90/100\n",
      "2477/2477 [==============================] - 4s 1ms/step - loss: 1.0700e-04 - acc: 8.0743e-04\n",
      "Epoch 91/100\n",
      "2477/2477 [==============================] - 4s 2ms/step - loss: 1.1180e-04 - acc: 8.0743e-04\n",
      "Epoch 92/100\n",
      "2477/2477 [==============================] - 4s 2ms/step - loss: 1.1193e-04 - acc: 8.0743e-04\n",
      "Epoch 93/100\n",
      "2477/2477 [==============================] - 4s 1ms/step - loss: 9.6854e-05 - acc: 8.0743e-04\n",
      "Epoch 94/100\n",
      "2477/2477 [==============================] - 3s 1ms/step - loss: 1.0777e-04 - acc: 8.0743e-04\n",
      "Epoch 95/100\n",
      "2477/2477 [==============================] - 3s 1ms/step - loss: 1.0419e-04 - acc: 8.0743e-04\n",
      "Epoch 96/100\n",
      "2477/2477 [==============================] - 4s 1ms/step - loss: 1.0080e-04 - acc: 8.0743e-04\n",
      "Epoch 97/100\n",
      "2477/2477 [==============================] - 4s 2ms/step - loss: 1.1488e-04 - acc: 8.0743e-04\n",
      "Epoch 98/100\n",
      "2477/2477 [==============================] - 4s 2ms/step - loss: 9.6119e-05 - acc: 8.0743e-04\n",
      "Epoch 99/100\n",
      "2477/2477 [==============================] - 4s 2ms/step - loss: 9.8582e-05 - acc: 8.0743e-04\n",
      "Epoch 100/100\n",
      "2477/2477 [==============================] - 4s 2ms/step - loss: 1.0119e-04 - acc: 8.0743e-04A: 0s - loss: 1.0001e-04 - acc: 4.280\n"
     ]
    }
   ],
   "source": [
    "model.compile(loss=\"mean_squared_error\",optimizer=\"adam\",metrics=['accuracy'])#,callbacks = callback)\n",
    "#activation='tanh', recurrent_activation='hard_sigmoid'\n",
    "history1 = model.fit(x_train,y_train,epochs=100,batch_size=32)"
   ]
  },
  {
   "cell_type": "markdown",
   "metadata": {},
   "source": [
    "Adding multiple LSTM layers to model "
   ]
  },
  {
   "cell_type": "code",
   "execution_count": 24,
   "metadata": {},
   "outputs": [],
   "source": [
    "model2=Sequential()\n",
    "\n",
    "model2.add(LSTM(10,activation=\"relu\",return_sequences=True,input_shape=(None,1)))\n",
    "\n",
    "#model2.add(LSTM(20,return_sequences=True,activation=\"relu\"))\n",
    "\n",
    "model2.add(LSTM(10,activation=\"relu\"))\n",
    "\n",
    "model2.add(Dense(1))"
   ]
  },
  {
   "cell_type": "code",
   "execution_count": 25,
   "metadata": {},
   "outputs": [
    {
     "name": "stdout",
     "output_type": "stream",
     "text": [
      "Epoch 1/100\n",
      "2477/2477 [==============================] - 10s 4ms/step - loss: 0.0160 - acc: 4.0371e-04\n",
      "Epoch 2/100\n",
      "2477/2477 [==============================] - 6s 2ms/step - loss: 0.0014 - acc: 8.0743e-04\n",
      "Epoch 3/100\n",
      "2477/2477 [==============================] - 6s 2ms/step - loss: 0.0010 - acc: 8.0743e-04\n",
      "Epoch 4/100\n",
      "2477/2477 [==============================] - 6s 2ms/step - loss: 7.4460e-04 - acc: 8.0743e-04\n",
      "Epoch 5/100\n",
      "2477/2477 [==============================] - 5s 2ms/step - loss: 6.3020e-04 - acc: 8.0743e-04\n",
      "Epoch 6/100\n",
      "2477/2477 [==============================] - 8s 3ms/step - loss: 5.8671e-04 - acc: 8.0743e-04\n",
      "Epoch 7/100\n",
      "2477/2477 [==============================] - 7s 3ms/step - loss: 5.7264e-04 - acc: 8.0743e-04\n",
      "Epoch 8/100\n",
      "2477/2477 [==============================] - 7s 3ms/step - loss: 5.4791e-04 - acc: 8.0743e-04\n",
      "Epoch 9/100\n",
      "2477/2477 [==============================] - 7s 3ms/step - loss: 5.0889e-04 - acc: 8.0743e-04\n",
      "Epoch 10/100\n",
      "2477/2477 [==============================] - 7s 3ms/step - loss: 5.1225e-04 - acc: 8.0743e-04\n",
      "Epoch 11/100\n",
      "2477/2477 [==============================] - 8s 3ms/step - loss: 4.6119e-04 - acc: 8.0743e-04\n",
      "Epoch 12/100\n",
      "2477/2477 [==============================] - 7s 3ms/step - loss: 4.6984e-04 - acc: 8.0743e-04\n",
      "Epoch 13/100\n",
      "2477/2477 [==============================] - 7s 3ms/step - loss: 4.2732e-04 - acc: 8.0743e-04A: 1s - loss: 3.8799e-0\n",
      "Epoch 14/100\n",
      "2477/2477 [==============================] - 7s 3ms/step - loss: 4.6415e-04 - acc: 8.0743e-04\n",
      "Epoch 15/100\n",
      "2477/2477 [==============================] - 7s 3ms/step - loss: 4.2003e-04 - acc: 8.0743e-04\n",
      "Epoch 16/100\n",
      "2477/2477 [==============================] - 7s 3ms/step - loss: 4.0598e-04 - acc: 8.0743e-04\n",
      "Epoch 17/100\n",
      "2477/2477 [==============================] - 8s 3ms/step - loss: 4.0385e-04 - acc: 8.0743e-04A: 0s - loss: 4.1421e-04 - acc: 8.561\n",
      "Epoch 18/100\n",
      "2477/2477 [==============================] - 7s 3ms/step - loss: 3.8406e-04 - acc: 8.0743e-04A: 2s - loss:\n",
      "Epoch 19/100\n",
      "2477/2477 [==============================] - 7s 3ms/step - loss: 3.8874e-04 - acc: 8.0743e-04\n",
      "Epoch 20/100\n",
      "2477/2477 [==============================] - 7s 3ms/step - loss: 3.8194e-04 - acc: 8.0743e-04A: 2s - lo\n",
      "Epoch 21/100\n",
      "2477/2477 [==============================] - 7s 3ms/step - loss: 3.6836e-04 - acc: 8.0743e-04\n",
      "Epoch 22/100\n",
      "2477/2477 [==============================] - 7s 3ms/step - loss: 3.8278e-04 - acc: 8.0743e-04\n",
      "Epoch 23/100\n",
      "2477/2477 [==============================] - 7s 3ms/step - loss: 4.1337e-04 - acc: 8.0743e-04A: 0s - loss: 4.1488e-04 - acc: 8.2237e-\n",
      "Epoch 24/100\n",
      "2477/2477 [==============================] - 7s 3ms/step - loss: 3.2930e-04 - acc: 8.0743e-04\n",
      "Epoch 25/100\n",
      "2477/2477 [==============================] - 6s 3ms/step - loss: 3.1844e-04 - acc: 8.0743e-04\n",
      "Epoch 26/100\n",
      "2477/2477 [==============================] - 7s 3ms/step - loss: 3.2450e-04 - acc: 8.0743e-04\n",
      "Epoch 27/100\n",
      "2477/2477 [==============================] - 7s 3ms/step - loss: 3.0926e-04 - acc: 8.0743e-04\n",
      "Epoch 28/100\n",
      "2477/2477 [==============================] - 7s 3ms/step - loss: 3.2635e-04 - acc: 8.0743e-04\n",
      "Epoch 29/100\n",
      "2477/2477 [==============================] - 8s 3ms/step - loss: 2.8680e-04 - acc: 8.0743e-04\n",
      "Epoch 30/100\n",
      "2477/2477 [==============================] - 7s 3ms/step - loss: 2.8387e-04 - acc: 8.0743e-04\n",
      "Epoch 31/100\n",
      "2477/2477 [==============================] - 6s 3ms/step - loss: 2.7870e-04 - acc: 8.0743e-04\n",
      "Epoch 32/100\n",
      "2477/2477 [==============================] - 6s 3ms/step - loss: 2.7218e-04 - acc: 8.0743e-04\n",
      "Epoch 33/100\n",
      "2477/2477 [==============================] - 6s 3ms/step - loss: 2.7612e-04 - acc: 8.0743e-04\n",
      "Epoch 34/100\n",
      "2477/2477 [==============================] - 7s 3ms/step - loss: 2.7228e-04 - acc: 8.0743e-04\n",
      "Epoch 35/100\n",
      "2477/2477 [==============================] - 7s 3ms/step - loss: 2.5890e-04 - acc: 8.0743e-04\n",
      "Epoch 36/100\n",
      "2477/2477 [==============================] - 8s 3ms/step - loss: 2.6175e-04 - acc: 8.0743e-04A: 2s - loss:\n",
      "Epoch 37/100\n",
      "2477/2477 [==============================] - 8s 3ms/step - loss: 2.5273e-04 - acc: 8.0743e-04\n",
      "Epoch 38/100\n",
      "2477/2477 [==============================] - 7s 3ms/step - loss: 2.5017e-04 - acc: 8.0743e-04\n",
      "Epoch 39/100\n",
      "2477/2477 [==============================] - 6s 3ms/step - loss: 2.4859e-04 - acc: 8.0743e-04\n",
      "Epoch 40/100\n",
      "2477/2477 [==============================] - 7s 3ms/step - loss: 2.3505e-04 - acc: 8.0743e-04\n",
      "Epoch 41/100\n",
      "2477/2477 [==============================] - 7s 3ms/step - loss: 2.5125e-04 - acc: 8.0743e-04\n",
      "Epoch 42/100\n",
      "2477/2477 [==============================] - 7s 3ms/step - loss: 2.7277e-04 - acc: 8.0743e-04\n",
      "Epoch 43/100\n",
      "2477/2477 [==============================] - 6s 3ms/step - loss: 2.3582e-04 - acc: 8.0743e-04\n",
      "Epoch 44/100\n",
      "2477/2477 [==============================] - 6s 3ms/step - loss: 2.3695e-04 - acc: 8.0743e-04\n",
      "Epoch 45/100\n",
      "2477/2477 [==============================] - 6s 3ms/step - loss: 2.2261e-04 - acc: 8.0743e-04\n",
      "Epoch 46/100\n",
      "2477/2477 [==============================] - 6s 2ms/step - loss: 1.9589e-04 - acc: 8.0743e-04\n",
      "Epoch 47/100\n",
      "2477/2477 [==============================] - 6s 2ms/step - loss: 2.2298e-04 - acc: 8.0743e-04\n",
      "Epoch 48/100\n",
      "2477/2477 [==============================] - 6s 2ms/step - loss: 2.1639e-04 - acc: 8.0743e-04\n",
      "Epoch 49/100\n",
      "2477/2477 [==============================] - 6s 2ms/step - loss: 2.2395e-04 - acc: 8.0743e-04\n",
      "Epoch 50/100\n",
      "2477/2477 [==============================] - 6s 2ms/step - loss: 1.9120e-04 - acc: 8.0743e-04\n",
      "Epoch 51/100\n",
      "2477/2477 [==============================] - 6s 2ms/step - loss: 1.8847e-04 - acc: 8.0743e-04\n",
      "Epoch 52/100\n",
      "2477/2477 [==============================] - 6s 3ms/step - loss: 2.0869e-04 - acc: 8.0743e-04\n",
      "Epoch 53/100\n",
      "2477/2477 [==============================] - 8s 3ms/step - loss: 2.1833e-04 - acc: 8.0743e-04\n",
      "Epoch 54/100\n",
      "2477/2477 [==============================] - 7s 3ms/step - loss: 1.8836e-04 - acc: 8.0743e-04\n",
      "Epoch 55/100\n",
      "2477/2477 [==============================] - 6s 3ms/step - loss: 1.8620e-04 - acc: 8.0743e-04\n",
      "Epoch 56/100\n",
      "2477/2477 [==============================] - 6s 2ms/step - loss: 1.8037e-04 - acc: 8.0743e-04\n",
      "Epoch 57/100\n",
      "2477/2477 [==============================] - 6s 2ms/step - loss: 1.9299e-04 - acc: 8.0743e-04\n",
      "Epoch 58/100\n",
      "2477/2477 [==============================] - 6s 3ms/step - loss: 1.7030e-04 - acc: 8.0743e-04\n",
      "Epoch 59/100\n",
      "2477/2477 [==============================] - 6s 2ms/step - loss: 1.9950e-04 - acc: 8.0743e-04\n",
      "Epoch 60/100\n",
      "2477/2477 [==============================] - 7s 3ms/step - loss: 1.6494e-04 - acc: 8.0743e-04\n",
      "Epoch 61/100\n",
      "2477/2477 [==============================] - 7s 3ms/step - loss: 1.5146e-04 - acc: 8.0743e-04\n",
      "Epoch 62/100\n",
      "2477/2477 [==============================] - 7s 3ms/step - loss: 1.4805e-04 - acc: 8.0743e-04\n",
      "Epoch 63/100\n",
      "2477/2477 [==============================] - 7s 3ms/step - loss: 1.6714e-04 - acc: 8.0743e-04\n",
      "Epoch 64/100\n",
      "2477/2477 [==============================] - 7s 3ms/step - loss: 1.4923e-04 - acc: 8.0743e-04\n",
      "Epoch 65/100\n",
      "2477/2477 [==============================] - 6s 2ms/step - loss: 1.5930e-04 - acc: 8.0743e-04\n",
      "Epoch 66/100\n",
      "2477/2477 [==============================] - 6s 2ms/step - loss: 1.4215e-04 - acc: 8.0743e-04\n",
      "Epoch 67/100\n",
      "2477/2477 [==============================] - 6s 2ms/step - loss: 1.3893e-04 - acc: 8.0743e-04\n",
      "Epoch 68/100\n",
      "2477/2477 [==============================] - 6s 3ms/step - loss: 1.5909e-04 - acc: 8.0743e-04\n",
      "Epoch 69/100\n",
      "2477/2477 [==============================] - 6s 2ms/step - loss: 1.4035e-04 - acc: 8.0743e-04\n",
      "Epoch 70/100\n",
      "2477/2477 [==============================] - 6s 3ms/step - loss: 1.3460e-04 - acc: 8.0743e-04\n",
      "Epoch 71/100\n",
      "2477/2477 [==============================] - 6s 2ms/step - loss: 1.3637e-04 - acc: 8.0743e-04\n",
      "Epoch 72/100\n",
      "2477/2477 [==============================] - 6s 2ms/step - loss: 1.3135e-04 - acc: 8.0743e-04\n",
      "Epoch 73/100\n",
      "2477/2477 [==============================] - 6s 2ms/step - loss: 1.4014e-04 - acc: 8.0743e-04\n",
      "Epoch 74/100\n",
      "2477/2477 [==============================] - 6s 2ms/step - loss: 1.2914e-04 - acc: 8.0743e-04\n",
      "Epoch 75/100\n",
      "2477/2477 [==============================] - 6s 2ms/step - loss: 1.2422e-04 - acc: 8.0743e-04\n",
      "Epoch 76/100\n",
      "2477/2477 [==============================] - 5s 2ms/step - loss: 1.2544e-04 - acc: 8.0743e-04\n",
      "Epoch 77/100\n",
      "2477/2477 [==============================] - 5s 2ms/step - loss: 1.4410e-04 - acc: 8.0743e-04\n",
      "Epoch 78/100\n",
      "2477/2477 [==============================] - 5s 2ms/step - loss: 1.3312e-04 - acc: 8.0743e-04\n",
      "Epoch 79/100\n",
      "2477/2477 [==============================] - 5s 2ms/step - loss: 1.2364e-04 - acc: 8.0743e-04\n",
      "Epoch 80/100\n",
      "2477/2477 [==============================] - 5s 2ms/step - loss: 1.2766e-04 - acc: 8.0743e-04\n",
      "Epoch 81/100\n",
      "2477/2477 [==============================] - 5s 2ms/step - loss: 1.2797e-04 - acc: 8.0743e-04\n",
      "Epoch 82/100\n",
      "2477/2477 [==============================] - 5s 2ms/step - loss: 1.3540e-04 - acc: 8.0743e-04\n",
      "Epoch 83/100\n",
      "2477/2477 [==============================] - 5s 2ms/step - loss: 1.3171e-04 - acc: 8.0743e-04\n",
      "Epoch 84/100\n",
      "2477/2477 [==============================] - 5s 2ms/step - loss: 1.1710e-04 - acc: 8.0743e-04\n",
      "Epoch 85/100\n",
      "2477/2477 [==============================] - 5s 2ms/step - loss: 1.2362e-04 - acc: 8.0743e-04\n",
      "Epoch 86/100\n",
      "2477/2477 [==============================] - 5s 2ms/step - loss: 1.3081e-04 - acc: 8.0743e-04\n",
      "Epoch 87/100\n",
      "2477/2477 [==============================] - 5s 2ms/step - loss: 1.2042e-04 - acc: 8.0743e-04\n",
      "Epoch 88/100\n",
      "2477/2477 [==============================] - 5s 2ms/step - loss: 1.2453e-04 - acc: 8.0743e-04\n",
      "Epoch 89/100\n",
      "2477/2477 [==============================] - 5s 2ms/step - loss: 1.2191e-04 - acc: 8.0743e-04\n",
      "Epoch 90/100\n",
      "2477/2477 [==============================] - 6s 2ms/step - loss: 1.2601e-04 - acc: 8.0743e-04\n",
      "Epoch 91/100\n",
      "2477/2477 [==============================] - 5s 2ms/step - loss: 1.0853e-04 - acc: 8.0743e-04\n",
      "Epoch 92/100\n",
      "2477/2477 [==============================] - 6s 2ms/step - loss: 1.2306e-04 - acc: 8.0743e-04\n",
      "Epoch 93/100\n",
      "2477/2477 [==============================] - 5s 2ms/step - loss: 1.1779e-04 - acc: 8.0743e-04\n",
      "Epoch 94/100\n",
      "2477/2477 [==============================] - 5s 2ms/step - loss: 1.1616e-04 - acc: 8.0743e-04\n",
      "Epoch 95/100\n",
      "2477/2477 [==============================] - 6s 2ms/step - loss: 1.1460e-04 - acc: 8.0743e-04\n",
      "Epoch 96/100\n",
      "2477/2477 [==============================] - 5s 2ms/step - loss: 1.0934e-04 - acc: 8.0743e-04\n",
      "Epoch 97/100\n",
      "2477/2477 [==============================] - 5s 2ms/step - loss: 1.1105e-04 - acc: 8.0743e-04\n",
      "Epoch 98/100\n",
      "2477/2477 [==============================] - 6s 2ms/step - loss: 1.1596e-04 - acc: 8.0743e-04\n",
      "Epoch 99/100\n",
      "2477/2477 [==============================] - 5s 2ms/step - loss: 1.0827e-04 - acc: 8.0743e-04\n",
      "Epoch 100/100\n",
      "2477/2477 [==============================] - 5s 2ms/step - loss: 1.2454e-04 - acc: 8.0743e-04\n"
     ]
    }
   ],
   "source": [
    "model2.compile(loss=\"mean_squared_error\",optimizer=\"adam\",metrics=['accuracy'])#,callbacks = callback)\n",
    "#activation='tanh', recurrent_activation='hard_sigmoid'\n",
    "history2 = model2.fit(x_train,y_train,epochs=100,batch_size=32)"
   ]
  },
  {
   "cell_type": "markdown",
   "metadata": {
    "_uuid": "add16d8c9ba53ae8abccfb8e46f33c6586e0ca65"
   },
   "source": [
    "Keep going with test data"
   ]
  },
  {
   "cell_type": "code",
   "execution_count": 26,
   "metadata": {
    "_uuid": "3565fca8454345628ef64e3c04478463fca1ff74"
   },
   "outputs": [],
   "source": [
    "inputs=data[len(data)-len(close_test)-timestep:]\n",
    "inputs=inputs.values.reshape(-1,1)\n",
    "inputs=scaler.transform(inputs)"
   ]
  },
  {
   "cell_type": "code",
   "execution_count": 27,
   "metadata": {
    "_uuid": "46cde05f13fb1ca04c2d0c980d1644d975dd3870"
   },
   "outputs": [],
   "source": [
    "x_test=[]\n",
    "for i in range(timestep,inputs.shape[0]):\n",
    "    x_test.append(inputs[i-timestep:i,0])\n",
    "x_test=np.array(x_test)\n",
    "x_test=x_test.reshape(x_test.shape[0],x_test.shape[1],1)"
   ]
  },
  {
   "cell_type": "markdown",
   "metadata": {
    "_uuid": "62794ffaa6a6b6bc64232424c03436edbb7b6825"
   },
   "source": [
    "it's time to predict"
   ]
  },
  {
   "cell_type": "code",
   "execution_count": 28,
   "metadata": {
    "_uuid": "a837c6f9642fba4332ec63e89f99d2a876f6ea3f"
   },
   "outputs": [],
   "source": [
    "predicted_data_LSTM1=model.predict(x_test)\n",
    "predicted_data_LSTM1=scaler.inverse_transform(predicted_data_LSTM1)"
   ]
  },
  {
   "cell_type": "code",
   "execution_count": 29,
   "metadata": {},
   "outputs": [],
   "source": [
    "predicted_data_LSTM2=model2.predict(x_test)\n",
    "predicted_data_LSTM2=scaler.inverse_transform(predicted_data_LSTM2)"
   ]
  },
  {
   "cell_type": "code",
   "execution_count": 30,
   "metadata": {
    "_uuid": "7111f36c85adace9f4d965d6dbe9fc4cf344139b"
   },
   "outputs": [],
   "source": [
    "data_test=np.array(close_test)\n",
    "data_test=data_test.reshape(len(data_test),1)"
   ]
  },
  {
   "cell_type": "code",
   "execution_count": 56,
   "metadata": {
    "_uuid": "fa7d96f41874e8d3207f30ddb50e0b9c658e759a"
   },
   "outputs": [
    {
     "data": {
      "image/png": "[encoded data removed]",
      "text/plain": [
       "<Figure size 960x480 with 1 Axes>"
      ]
     },
     "metadata": {},
     "output_type": "display_data"
    }
   ],
   "source": [
    "plt.figure(figsize=(12,6), dpi=80, facecolor='w', edgecolor='k')\n",
    "plt.plot(data_test,color=\"r\",label=\"true result\",linestyle = '--')\n",
    "plt.plot(predicted_data_RNN,color=\"k\",label=\"predicted result_RNN\",linestyle = ':')\n",
    "plt.plot(predicted_data_LSTM1,color=\"b\",label=\"predicted result_LSTM\")\n",
    "#plt.plot(predicted_data_LSTM2,color=\"r\",label=\"predicted result_LSTM2\")\n",
    "plt.legend()\n",
    "plt.xlabel(\"Time(100 days)\")\n",
    "plt.ylabel(\"Close Values\")\n",
    "plt.grid(True)\n",
    "plt.show()"
   ]
  },
  {
   "cell_type": "code",
   "execution_count": 42,
   "metadata": {},
   "outputs": [
    {
     "name": "stdout",
     "output_type": "stream",
     "text": [
      "dict_keys(['loss', 'acc'])\n"
     ]
    }
   ],
   "source": [
    "print(history1.history.keys())"
   ]
  },
  {
   "cell_type": "code",
   "execution_count": 39,
   "metadata": {},
   "outputs": [
    {
     "data": {
      "image/png": "[encoded data removed]",
      "text/plain": [
       "<Figure size 432x288 with 1 Axes>"
      ]
     },
     "metadata": {
      "needs_background": "light"
     },
     "output_type": "display_data"
    }
   ],
   "source": [
    "plt.plot(history1.history[\"loss\"],color=\"r\",label=\"Loss\",linestyle = '--')\n",
    "plt.legend()\n",
    "plt.xlabel(\"Iterations\")\n",
    "plt.ylabel(\"loss\")\n",
    "plt.grid(True)\n",
    "plt.show()\n"
   ]
  },
  {
   "cell_type": "markdown",
   "metadata": {
    "_uuid": "76aa7f58212d6a4f3453f33eea23c4fbec6f4c42"
   },
   "source": [
    "* ** Conclusion**\n",
    "\n",
    "When we compare the both results (RNN and LSTM) we can see that we have better prediction with LSTM. \n",
    "\n",
    "Up to here I was trying to show the differences between RNN and LSTM. If you have any question or I have any error please write me dirctly.\n"
   ]
  },
  {
   "cell_type": "code",
   "execution_count": 37,
   "metadata": {
    "_uuid": "170665ccc813245a71eda82a55060938ab7b9331"
   },
   "outputs": [],
   "source": [
    "import matplotlib\n"
   ]
  },
  {
   "cell_type": "code",
   "execution_count": 38,
   "metadata": {},
   "outputs": [
    {
     "ename": "SyntaxError",
     "evalue": "invalid syntax (<ipython-input-38-5b7c6061e86f>, line 1)",
     "output_type": "error",
     "traceback": [
      "\u001b[1;36m  File \u001b[1;32m\"<ipython-input-38-5b7c6061e86f>\"\u001b[1;36m, line \u001b[1;32m1\u001b[0m\n\u001b[1;33m    help matplotlib\u001b[0m\n\u001b[1;37m                  ^\u001b[0m\n\u001b[1;31mSyntaxError\u001b[0m\u001b[1;31m:\u001b[0m invalid syntax\n"
     ]
    }
   ],
   "source": [
    "help matplotlib\n"
   ]
  },
  {
   "cell_type": "code",
   "execution_count": 5,
   "metadata": {},
   "outputs": [
    {
     "ename": "NameError",
     "evalue": "name 'python' is not defined",
     "output_type": "error",
     "traceback": [
      "\u001b[1;31m---------------------------------------------------------------------------\u001b[0m",
      "\u001b[1;31mNameError\u001b[0m                                 Traceback (most recent call last)",
      "\u001b[1;32m<ipython-input-5-32886514c262>\u001b[0m in \u001b[0;36m<module>\u001b[1;34m\u001b[0m\n\u001b[1;32m----> 1\u001b[1;33m \u001b[0mpython\u001b[0m\u001b[1;33m\u001b[0m\u001b[1;33m\u001b[0m\u001b[0m\n\u001b[0m",
      "\u001b[1;31mNameError\u001b[0m: name 'python' is not defined"
     ]
    }
   ],
   "source": [
    "python"
   ]
  },
  {
   "cell_type": "code",
   "execution_count": 6,
   "metadata": {},
   "outputs": [
    {
     "ename": "NameError",
     "evalue": "name 'python' is not defined",
     "output_type": "error",
     "traceback": [
      "\u001b[1;31m---------------------------------------------------------------------------\u001b[0m",
      "\u001b[1;31mNameError\u001b[0m                                 Traceback (most recent call last)",
      "\u001b[1;32m<ipython-input-6-a4637bbefc43>\u001b[0m in \u001b[0;36m<module>\u001b[1;34m\u001b[0m\n\u001b[1;32m----> 1\u001b[1;33m \u001b[0mpython\u001b[0m \u001b[1;33m-\u001b[0m\u001b[1;33m-\u001b[0m\u001b[0mversion\u001b[0m\u001b[1;33m\u001b[0m\u001b[1;33m\u001b[0m\u001b[0m\n\u001b[0m",
      "\u001b[1;31mNameError\u001b[0m: name 'python' is not defined"
     ]
    }
   ],
   "source": [
    "python --version"
   ]
  },
  {
   "cell_type": "raw",
   "metadata": {},
   "source": [
    "--version\n"
   ]
  },
  {
   "cell_type": "code",
   "execution_count": 8,
   "metadata": {},
   "outputs": [
    {
     "data": {
      "text/plain": [
       "'3.7.1'"
      ]
     },
     "execution_count": 8,
     "metadata": {},
     "output_type": "execute_result"
    }
   ],
   "source": [
    "import platform\n",
    "platform.python_version()"
   ]
  },
  {
   "cell_type": "code",
   "execution_count": null,
   "metadata": {},
   "outputs": [],
   "source": []
  }
 ],
 "metadata": {
  "kernelspec": {
   "display_name": "Python 3",
   "language": "python",
   "name": "python3"
  },
  "language_info": {
   "codemirror_mode": {
    "name": "ipython",
    "version": 3
   },
   "file_extension": ".py",
   "mimetype": "text/x-python",
   "name": "python",
   "nbconvert_exporter": "python",
   "pygments_lexer": "ipython3",
   "version": "3.7.1"
  }
 },
 "nbformat": 4,
 "nbformat_minor": 1
}
