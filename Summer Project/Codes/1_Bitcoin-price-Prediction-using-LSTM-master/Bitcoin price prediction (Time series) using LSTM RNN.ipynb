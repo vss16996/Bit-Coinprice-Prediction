{
 "cells": [
  {
   "cell_type": "markdown",
   "metadata": {},
   "source": [
    "## Load libraries"
   ]
  },
  {
   "cell_type": "code",
   "execution_count": 1,
   "metadata": {},
   "outputs": [
    {
     "name": "stderr",
     "output_type": "stream",
     "text": [
      "Using TensorFlow backend.\n"
     ]
    }
   ],
   "source": [
    "import numpy as np\n",
    "import pandas as pd\n",
    "import matplotlib.pyplot as plt\n",
    "import math\n",
    "\n",
    "from sklearn.preprocessing import MinMaxScaler\n",
    "from sklearn.metrics import mean_squared_error\n",
    "\n",
    "from keras.models import Sequential\n",
    "from keras.layers import Dense\n",
    "from keras.layers import LSTM"
   ]
  },
  {
   "cell_type": "markdown",
   "metadata": {},
   "source": [
    "## Load the dataset"
   ]
  },
  {
   "cell_type": "code",
   "execution_count": 2,
   "metadata": {},
   "outputs": [],
   "source": [
    "data = pd.read_csv(\"bitcoin_ticker.csv\")"
   ]
  },
  {
   "cell_type": "code",
   "execution_count": 3,
   "metadata": {},
   "outputs": [
    {
     "data": {
      "text/html": [
       "<div>\n",
       "<style scoped>\n",
       "    .dataframe tbody tr th:only-of-type {\n",
       "        vertical-align: middle;\n",
       "    }\n",
       "\n",
       "    .dataframe tbody tr th {\n",
       "        vertical-align: top;\n",
       "    }\n",
       "\n",
       "    .dataframe thead th {\n",
       "        text-align: right;\n",
       "    }\n",
       "</style>\n",
       "<table border=\"1\" class=\"dataframe\">\n",
       "  <thead>\n",
       "    <tr style=\"text-align: right;\">\n",
       "      <th></th>\n",
       "      <th>date_id</th>\n",
       "      <th>datetime_id</th>\n",
       "      <th>market</th>\n",
       "      <th>rpt_key</th>\n",
       "      <th>last</th>\n",
       "      <th>diff_24h</th>\n",
       "      <th>diff_per_24h</th>\n",
       "      <th>bid</th>\n",
       "      <th>ask</th>\n",
       "      <th>low</th>\n",
       "      <th>high</th>\n",
       "      <th>volume</th>\n",
       "      <th>created_at</th>\n",
       "      <th>updated_at</th>\n",
       "    </tr>\n",
       "  </thead>\n",
       "  <tbody>\n",
       "    <tr>\n",
       "      <th>0</th>\n",
       "      <td>2017-05-31</td>\n",
       "      <td>2017-06-01 00:00:00</td>\n",
       "      <td>bitstamp</td>\n",
       "      <td>btc_eur</td>\n",
       "      <td>1996.72</td>\n",
       "      <td>2029.99</td>\n",
       "      <td>-1.638924</td>\n",
       "      <td>2005.50</td>\n",
       "      <td>2005.56</td>\n",
       "      <td>1950.00</td>\n",
       "      <td>2063.73</td>\n",
       "      <td>2314.500750</td>\n",
       "      <td>2017-05-31 14:59:36</td>\n",
       "      <td>2017-05-31 14:59:36</td>\n",
       "    </tr>\n",
       "    <tr>\n",
       "      <th>1</th>\n",
       "      <td>2017-05-31</td>\n",
       "      <td>2017-06-01 00:00:00</td>\n",
       "      <td>bitflyer</td>\n",
       "      <td>btc_jpy</td>\n",
       "      <td>267098.00</td>\n",
       "      <td>269649.00</td>\n",
       "      <td>-0.946045</td>\n",
       "      <td>267124.00</td>\n",
       "      <td>267267.00</td>\n",
       "      <td>267124.00</td>\n",
       "      <td>267267.00</td>\n",
       "      <td>70922.880112</td>\n",
       "      <td>2017-05-31 14:59:36</td>\n",
       "      <td>2017-05-31 14:59:36</td>\n",
       "    </tr>\n",
       "    <tr>\n",
       "      <th>2</th>\n",
       "      <td>2017-05-31</td>\n",
       "      <td>2017-06-01 00:00:00</td>\n",
       "      <td>korbit</td>\n",
       "      <td>btc_krw</td>\n",
       "      <td>3003500.00</td>\n",
       "      <td>3140000.00</td>\n",
       "      <td>-4.347134</td>\n",
       "      <td>3003500.00</td>\n",
       "      <td>3004000.00</td>\n",
       "      <td>3002000.00</td>\n",
       "      <td>3209500.00</td>\n",
       "      <td>6109.752872</td>\n",
       "      <td>2017-05-31 14:59:36</td>\n",
       "      <td>2017-05-31 14:59:36</td>\n",
       "    </tr>\n",
       "    <tr>\n",
       "      <th>3</th>\n",
       "      <td>2017-05-31</td>\n",
       "      <td>2017-06-01 00:00:00</td>\n",
       "      <td>bitstamp</td>\n",
       "      <td>btc_usd</td>\n",
       "      <td>2237.40</td>\n",
       "      <td>2239.37</td>\n",
       "      <td>-0.087971</td>\n",
       "      <td>2233.09</td>\n",
       "      <td>2237.40</td>\n",
       "      <td>2154.28</td>\n",
       "      <td>2293.46</td>\n",
       "      <td>13681.282017</td>\n",
       "      <td>2017-05-31 14:59:36</td>\n",
       "      <td>2017-05-31 14:59:36</td>\n",
       "    </tr>\n",
       "    <tr>\n",
       "      <th>4</th>\n",
       "      <td>2017-05-31</td>\n",
       "      <td>2017-06-01 00:00:00</td>\n",
       "      <td>okcoin</td>\n",
       "      <td>btc_usd</td>\n",
       "      <td>2318.82</td>\n",
       "      <td>2228.70</td>\n",
       "      <td>4.043613</td>\n",
       "      <td>2319.40</td>\n",
       "      <td>2319.99</td>\n",
       "      <td>2129.78</td>\n",
       "      <td>2318.82</td>\n",
       "      <td>4241.641516</td>\n",
       "      <td>2017-05-31 14:59:36</td>\n",
       "      <td>2017-05-31 14:59:36</td>\n",
       "    </tr>\n",
       "  </tbody>\n",
       "</table>\n",
       "</div>"
      ],
      "text/plain": [
       "      date_id          datetime_id    market  rpt_key        last    diff_24h  \\\n",
       "0  2017-05-31  2017-06-01 00:00:00  bitstamp  btc_eur     1996.72     2029.99   \n",
       "1  2017-05-31  2017-06-01 00:00:00  bitflyer  btc_jpy   267098.00   269649.00   \n",
       "2  2017-05-31  2017-06-01 00:00:00    korbit  btc_krw  3003500.00  3140000.00   \n",
       "3  2017-05-31  2017-06-01 00:00:00  bitstamp  btc_usd     2237.40     2239.37   \n",
       "4  2017-05-31  2017-06-01 00:00:00    okcoin  btc_usd     2318.82     2228.70   \n",
       "\n",
       "   diff_per_24h         bid         ask         low        high        volume  \\\n",
       "0     -1.638924     2005.50     2005.56     1950.00     2063.73   2314.500750   \n",
       "1     -0.946045   267124.00   267267.00   267124.00   267267.00  70922.880112   \n",
       "2     -4.347134  3003500.00  3004000.00  3002000.00  3209500.00   6109.752872   \n",
       "3     -0.087971     2233.09     2237.40     2154.28     2293.46  13681.282017   \n",
       "4      4.043613     2319.40     2319.99     2129.78     2318.82   4241.641516   \n",
       "\n",
       "            created_at           updated_at  \n",
       "0  2017-05-31 14:59:36  2017-05-31 14:59:36  \n",
       "1  2017-05-31 14:59:36  2017-05-31 14:59:36  \n",
       "2  2017-05-31 14:59:36  2017-05-31 14:59:36  \n",
       "3  2017-05-31 14:59:36  2017-05-31 14:59:36  \n",
       "4  2017-05-31 14:59:36  2017-05-31 14:59:36  "
      ]
     },
     "execution_count": 3,
     "metadata": {},
     "output_type": "execute_result"
    }
   ],
   "source": [
    "data.head()"
   ]
  },
  {
   "cell_type": "code",
   "execution_count": 4,
   "metadata": {},
   "outputs": [
    {
     "data": {
      "text/plain": [
       "btc_usd       125438\n",
       "btc_jpy        62719\n",
       "btc_eur        62719\n",
       "eth_btc        62719\n",
       "etc_krw        62719\n",
       "fx_btc_jpy     62719\n",
       "eth_krw        62719\n",
       "btc_krw        62719\n",
       "ltc_usd        62719\n",
       "Name: rpt_key, dtype: int64"
      ]
     },
     "execution_count": 4,
     "metadata": {},
     "output_type": "execute_result"
    }
   ],
   "source": [
    "data['rpt_key'].value_counts()"
   ]
  },
  {
   "cell_type": "markdown",
   "metadata": {},
   "source": [
    "## Subset USD"
   ]
  },
  {
   "cell_type": "code",
   "execution_count": 18,
   "metadata": {},
   "outputs": [],
   "source": [
    "df = data.loc[(data['rpt_key'] == 'btc_usd')]"
   ]
  },
  {
   "cell_type": "code",
   "execution_count": 19,
   "metadata": {
    "scrolled": true
   },
   "outputs": [
    {
     "data": {
      "text/html": [
       "<div>\n",
       "<style scoped>\n",
       "    .dataframe tbody tr th:only-of-type {\n",
       "        vertical-align: middle;\n",
       "    }\n",
       "\n",
       "    .dataframe tbody tr th {\n",
       "        vertical-align: top;\n",
       "    }\n",
       "\n",
       "    .dataframe thead th {\n",
       "        text-align: right;\n",
       "    }\n",
       "</style>\n",
       "<table border=\"1\" class=\"dataframe\">\n",
       "  <thead>\n",
       "    <tr style=\"text-align: right;\">\n",
       "      <th></th>\n",
       "      <th>date_id</th>\n",
       "      <th>datetime_id</th>\n",
       "      <th>market</th>\n",
       "      <th>rpt_key</th>\n",
       "      <th>last</th>\n",
       "      <th>diff_24h</th>\n",
       "      <th>diff_per_24h</th>\n",
       "      <th>bid</th>\n",
       "      <th>ask</th>\n",
       "      <th>low</th>\n",
       "      <th>high</th>\n",
       "      <th>volume</th>\n",
       "      <th>created_at</th>\n",
       "      <th>updated_at</th>\n",
       "    </tr>\n",
       "  </thead>\n",
       "  <tbody>\n",
       "    <tr>\n",
       "      <th>3</th>\n",
       "      <td>2017-05-31</td>\n",
       "      <td>2017-06-01 00:00:00</td>\n",
       "      <td>bitstamp</td>\n",
       "      <td>btc_usd</td>\n",
       "      <td>2237.40</td>\n",
       "      <td>2239.37</td>\n",
       "      <td>-0.087971</td>\n",
       "      <td>2233.09</td>\n",
       "      <td>2237.40</td>\n",
       "      <td>2154.28</td>\n",
       "      <td>2293.46</td>\n",
       "      <td>13681.282017</td>\n",
       "      <td>2017-05-31 14:59:36</td>\n",
       "      <td>2017-05-31 14:59:36</td>\n",
       "    </tr>\n",
       "    <tr>\n",
       "      <th>4</th>\n",
       "      <td>2017-05-31</td>\n",
       "      <td>2017-06-01 00:00:00</td>\n",
       "      <td>okcoin</td>\n",
       "      <td>btc_usd</td>\n",
       "      <td>2318.82</td>\n",
       "      <td>2228.70</td>\n",
       "      <td>4.043613</td>\n",
       "      <td>2319.40</td>\n",
       "      <td>2319.99</td>\n",
       "      <td>2129.78</td>\n",
       "      <td>2318.82</td>\n",
       "      <td>4241.641516</td>\n",
       "      <td>2017-05-31 14:59:36</td>\n",
       "      <td>2017-05-31 14:59:36</td>\n",
       "    </tr>\n",
       "    <tr>\n",
       "      <th>15</th>\n",
       "      <td>2017-06-01</td>\n",
       "      <td>2017-06-01 00:01:00</td>\n",
       "      <td>bitstamp</td>\n",
       "      <td>btc_usd</td>\n",
       "      <td>2248.39</td>\n",
       "      <td>2242.44</td>\n",
       "      <td>0.265336</td>\n",
       "      <td>2247.77</td>\n",
       "      <td>2248.38</td>\n",
       "      <td>2154.28</td>\n",
       "      <td>2293.46</td>\n",
       "      <td>13701.698603</td>\n",
       "      <td>2017-05-31 15:00:36</td>\n",
       "      <td>2017-05-31 15:00:36</td>\n",
       "    </tr>\n",
       "    <tr>\n",
       "      <th>16</th>\n",
       "      <td>2017-06-01</td>\n",
       "      <td>2017-06-01 00:01:00</td>\n",
       "      <td>okcoin</td>\n",
       "      <td>btc_usd</td>\n",
       "      <td>2320.42</td>\n",
       "      <td>2228.40</td>\n",
       "      <td>4.129420</td>\n",
       "      <td>2320.99</td>\n",
       "      <td>2321.49</td>\n",
       "      <td>2129.78</td>\n",
       "      <td>2322.00</td>\n",
       "      <td>4260.261516</td>\n",
       "      <td>2017-05-31 15:00:36</td>\n",
       "      <td>2017-05-31 15:00:36</td>\n",
       "    </tr>\n",
       "    <tr>\n",
       "      <th>23</th>\n",
       "      <td>2017-06-01</td>\n",
       "      <td>2017-06-01 00:02:00</td>\n",
       "      <td>bitstamp</td>\n",
       "      <td>btc_usd</td>\n",
       "      <td>2248.35</td>\n",
       "      <td>2238.58</td>\n",
       "      <td>0.436437</td>\n",
       "      <td>2248.35</td>\n",
       "      <td>2248.69</td>\n",
       "      <td>2154.28</td>\n",
       "      <td>2293.46</td>\n",
       "      <td>13742.110913</td>\n",
       "      <td>2017-05-31 15:01:36</td>\n",
       "      <td>2017-05-31 15:01:36</td>\n",
       "    </tr>\n",
       "  </tbody>\n",
       "</table>\n",
       "</div>"
      ],
      "text/plain": [
       "       date_id          datetime_id    market  rpt_key     last  diff_24h  \\\n",
       "3   2017-05-31  2017-06-01 00:00:00  bitstamp  btc_usd  2237.40   2239.37   \n",
       "4   2017-05-31  2017-06-01 00:00:00    okcoin  btc_usd  2318.82   2228.70   \n",
       "15  2017-06-01  2017-06-01 00:01:00  bitstamp  btc_usd  2248.39   2242.44   \n",
       "16  2017-06-01  2017-06-01 00:01:00    okcoin  btc_usd  2320.42   2228.40   \n",
       "23  2017-06-01  2017-06-01 00:02:00  bitstamp  btc_usd  2248.35   2238.58   \n",
       "\n",
       "    diff_per_24h      bid      ask      low     high        volume  \\\n",
       "3      -0.087971  2233.09  2237.40  2154.28  2293.46  13681.282017   \n",
       "4       4.043613  2319.40  2319.99  2129.78  2318.82   4241.641516   \n",
       "15      0.265336  2247.77  2248.38  2154.28  2293.46  13701.698603   \n",
       "16      4.129420  2320.99  2321.49  2129.78  2322.00   4260.261516   \n",
       "23      0.436437  2248.35  2248.69  2154.28  2293.46  13742.110913   \n",
       "\n",
       "             created_at           updated_at  \n",
       "3   2017-05-31 14:59:36  2017-05-31 14:59:36  \n",
       "4   2017-05-31 14:59:36  2017-05-31 14:59:36  \n",
       "15  2017-05-31 15:00:36  2017-05-31 15:00:36  \n",
       "16  2017-05-31 15:00:36  2017-05-31 15:00:36  \n",
       "23  2017-05-31 15:01:36  2017-05-31 15:01:36  "
      ]
     },
     "execution_count": 19,
     "metadata": {},
     "output_type": "execute_result"
    }
   ],
   "source": [
    "df.head()"
   ]
  },
  {
   "cell_type": "markdown",
   "metadata": {},
   "source": [
    "### Convert datetime_id to data type and filter dates greater than  2017-06-28 00:00:00"
   ]
  },
  {
   "cell_type": "code",
   "execution_count": 20,
   "metadata": {},
   "outputs": [],
   "source": [
    "df = df.reset_index(drop=True)\n",
    "df['datetime'] = pd.to_datetime(df['datetime_id'])\n",
    "df = df.loc[df['datetime'] > pd.to_datetime('2017-06-01 00:00:00')]"
   ]
  },
  {
   "cell_type": "code",
   "execution_count": 21,
   "metadata": {},
   "outputs": [],
   "source": [
    "df = df[['datetime', 'last', 'diff_24h', 'diff_per_24h', 'bid', 'ask', 'low', 'high', 'volume']]"
   ]
  },
  {
   "cell_type": "code",
   "execution_count": 22,
   "metadata": {
    "scrolled": true
   },
   "outputs": [
    {
     "data": {
      "text/html": [
       "<div>\n",
       "<style scoped>\n",
       "    .dataframe tbody tr th:only-of-type {\n",
       "        vertical-align: middle;\n",
       "    }\n",
       "\n",
       "    .dataframe tbody tr th {\n",
       "        vertical-align: top;\n",
       "    }\n",
       "\n",
       "    .dataframe thead th {\n",
       "        text-align: right;\n",
       "    }\n",
       "</style>\n",
       "<table border=\"1\" class=\"dataframe\">\n",
       "  <thead>\n",
       "    <tr style=\"text-align: right;\">\n",
       "      <th></th>\n",
       "      <th>datetime</th>\n",
       "      <th>last</th>\n",
       "      <th>diff_24h</th>\n",
       "      <th>diff_per_24h</th>\n",
       "      <th>bid</th>\n",
       "      <th>ask</th>\n",
       "      <th>low</th>\n",
       "      <th>high</th>\n",
       "      <th>volume</th>\n",
       "    </tr>\n",
       "  </thead>\n",
       "  <tbody>\n",
       "    <tr>\n",
       "      <th>2</th>\n",
       "      <td>2017-06-01 00:01:00</td>\n",
       "      <td>2248.39</td>\n",
       "      <td>2242.44</td>\n",
       "      <td>0.265336</td>\n",
       "      <td>2247.77</td>\n",
       "      <td>2248.38</td>\n",
       "      <td>2154.28</td>\n",
       "      <td>2293.46</td>\n",
       "      <td>13701.698603</td>\n",
       "    </tr>\n",
       "    <tr>\n",
       "      <th>3</th>\n",
       "      <td>2017-06-01 00:01:00</td>\n",
       "      <td>2320.42</td>\n",
       "      <td>2228.40</td>\n",
       "      <td>4.129420</td>\n",
       "      <td>2320.99</td>\n",
       "      <td>2321.49</td>\n",
       "      <td>2129.78</td>\n",
       "      <td>2322.00</td>\n",
       "      <td>4260.261516</td>\n",
       "    </tr>\n",
       "    <tr>\n",
       "      <th>4</th>\n",
       "      <td>2017-06-01 00:02:00</td>\n",
       "      <td>2248.35</td>\n",
       "      <td>2238.58</td>\n",
       "      <td>0.436437</td>\n",
       "      <td>2248.35</td>\n",
       "      <td>2248.69</td>\n",
       "      <td>2154.28</td>\n",
       "      <td>2293.46</td>\n",
       "      <td>13742.110913</td>\n",
       "    </tr>\n",
       "    <tr>\n",
       "      <th>5</th>\n",
       "      <td>2017-06-01 00:02:00</td>\n",
       "      <td>2323.50</td>\n",
       "      <td>2229.99</td>\n",
       "      <td>4.193292</td>\n",
       "      <td>2323.50</td>\n",
       "      <td>2323.51</td>\n",
       "      <td>2129.78</td>\n",
       "      <td>2323.50</td>\n",
       "      <td>4263.031516</td>\n",
       "    </tr>\n",
       "    <tr>\n",
       "      <th>6</th>\n",
       "      <td>2017-06-01 00:03:00</td>\n",
       "      <td>2250.00</td>\n",
       "      <td>2245.99</td>\n",
       "      <td>0.178540</td>\n",
       "      <td>2250.10</td>\n",
       "      <td>2251.44</td>\n",
       "      <td>2154.28</td>\n",
       "      <td>2293.46</td>\n",
       "      <td>13798.457716</td>\n",
       "    </tr>\n",
       "  </tbody>\n",
       "</table>\n",
       "</div>"
      ],
      "text/plain": [
       "             datetime     last  diff_24h  diff_per_24h      bid      ask  \\\n",
       "2 2017-06-01 00:01:00  2248.39   2242.44      0.265336  2247.77  2248.38   \n",
       "3 2017-06-01 00:01:00  2320.42   2228.40      4.129420  2320.99  2321.49   \n",
       "4 2017-06-01 00:02:00  2248.35   2238.58      0.436437  2248.35  2248.69   \n",
       "5 2017-06-01 00:02:00  2323.50   2229.99      4.193292  2323.50  2323.51   \n",
       "6 2017-06-01 00:03:00  2250.00   2245.99      0.178540  2250.10  2251.44   \n",
       "\n",
       "       low     high        volume  \n",
       "2  2154.28  2293.46  13701.698603  \n",
       "3  2129.78  2322.00   4260.261516  \n",
       "4  2154.28  2293.46  13742.110913  \n",
       "5  2129.78  2323.50   4263.031516  \n",
       "6  2154.28  2293.46  13798.457716  "
      ]
     },
     "execution_count": 22,
     "metadata": {},
     "output_type": "execute_result"
    }
   ],
   "source": [
    "df.head()"
   ]
  },
  {
   "cell_type": "markdown",
   "metadata": {},
   "source": [
    "### we require only the last value, so we subset that and convert it to numpy array"
   ]
  },
  {
   "cell_type": "code",
   "execution_count": 23,
   "metadata": {},
   "outputs": [],
   "source": [
    "df = df[['last']]"
   ]
  },
  {
   "cell_type": "code",
   "execution_count": 24,
   "metadata": {},
   "outputs": [],
   "source": [
    "dataset = df.values\n",
    "dataset = dataset.astype('float32')"
   ]
  },
  {
   "cell_type": "code",
   "execution_count": 25,
   "metadata": {},
   "outputs": [
    {
     "name": "stdout",
     "output_type": "stream",
     "text": [
      "[[2248.39]\n",
      " [2320.42]\n",
      " [2248.35]\n",
      " ...\n",
      " [2394.03]\n",
      " [2320.47]\n",
      " [2394.03]]\n",
      "(125436, 1)\n"
     ]
    }
   ],
   "source": [
    "print(dataset)\n",
    "print(dataset.shape)"
   ]
  },
  {
   "cell_type": "markdown",
   "metadata": {},
   "source": [
    "Neural networks are sensitive to input data, especiallly when we are using activation functions like sigmoid or tanh activation functions are used. ISo we rescale our data to the range of 0-to-1, using MinMaxScaler"
   ]
  },
  {
   "cell_type": "code",
   "execution_count": 26,
   "metadata": {},
   "outputs": [],
   "source": [
    "scaler = MinMaxScaler(feature_range=(0, 1))\n",
    "dataset = scaler.fit_transform(dataset)"
   ]
  },
  {
   "cell_type": "code",
   "execution_count": 27,
   "metadata": {},
   "outputs": [
    {
     "name": "stdout",
     "output_type": "stream",
     "text": [
      "[[0.00889039]\n",
      " [0.08530831]\n",
      " [0.00884819]\n",
      " ...\n",
      " [0.1634028 ]\n",
      " [0.08536148]\n",
      " [0.1634028 ]]\n",
      "(125436, 1)\n"
     ]
    }
   ],
   "source": [
    "print(dataset)\n",
    "print(dataset.shape)"
   ]
  },
  {
   "cell_type": "code",
   "execution_count": 28,
   "metadata": {},
   "outputs": [
    {
     "name": "stdout",
     "output_type": "stream",
     "text": [
      "84042 41394\n"
     ]
    }
   ],
   "source": [
    "train_size = int(len(dataset) * 0.67)\n",
    "test_size = len(dataset) - train_size\n",
    "train, test = dataset[0:train_size, :], dataset[train_size:len(dataset), :]\n",
    "print(len(train), len(test))"
   ]
  },
  {
   "cell_type": "markdown",
   "metadata": {},
   "source": [
    "Now let us define the function called create_dataset, which take two inputs, \n",
    "\n",
    "1. Dataset - numpy array that we want to convert into a dataset\n",
    "2. look_back - number of previous time steps to use as input variables to predict the next time period\n"
   ]
  },
  {
   "cell_type": "code",
   "execution_count": 29,
   "metadata": {},
   "outputs": [],
   "source": [
    "# convert an array of values into a dataset matrix\n",
    "def create_dataset(dataset, look_back=1):\n",
    "  dataX, dataY = [], []\n",
    "  for i in range(len(dataset)-look_back-1):\n",
    "    a = dataset[i:(i+look_back), 0]\n",
    "    dataX.append(a)\n",
    "    dataY.append(dataset[i + look_back, 0])\n",
    "  return np.array(dataX), np.array(dataY)"
   ]
  },
  {
   "cell_type": "code",
   "execution_count": 30,
   "metadata": {},
   "outputs": [],
   "source": [
    "look_back = 10\n",
    "trainX, trainY = create_dataset(train, look_back=look_back)\n",
    "testX, testY = create_dataset(test, look_back=look_back)"
   ]
  },
  {
   "cell_type": "code",
   "execution_count": 31,
   "metadata": {},
   "outputs": [
    {
     "data": {
      "text/plain": [
       "array([0.00889039, 0.08530831, 0.00884819, 0.08857608, 0.01059866,\n",
       "       0.13196754, 0.01460886, 0.13744211, 0.01843882, 0.14296937],\n",
       "      dtype=float32)"
      ]
     },
     "execution_count": 31,
     "metadata": {},
     "output_type": "execute_result"
    }
   ],
   "source": [
    "trainX[0]"
   ]
  },
  {
   "cell_type": "code",
   "execution_count": 33,
   "metadata": {},
   "outputs": [
    {
     "data": {
      "text/plain": [
       "0.016645908"
      ]
     },
     "execution_count": 33,
     "metadata": {},
     "output_type": "execute_result"
    }
   ],
   "source": [
    "trainY[0]"
   ]
  },
  {
   "cell_type": "code",
   "execution_count": 35,
   "metadata": {},
   "outputs": [],
   "source": [
    "# reshape input to be [samples, time steps, features]\n",
    "trainX = np.reshape(trainX, (trainX.shape[0], 1, trainX.shape[1]))\n",
    "testX = np.reshape(testX, (testX.shape[0], 1, testX.shape[1]))"
   ]
  },
  {
   "cell_type": "markdown",
   "metadata": {},
   "source": [
    "## Build our Model"
   ]
  },
  {
   "cell_type": "code",
   "execution_count": 36,
   "metadata": {
    "scrolled": true
   },
   "outputs": [
    {
     "name": "stdout",
     "output_type": "stream",
     "text": [
      "WARNING:tensorflow:From C:\\Users\\vss\\Anaconda3\\lib\\site-packages\\tensorflow\\python\\ops\\math_ops.py:3066: to_int32 (from tensorflow.python.ops.math_ops) is deprecated and will be removed in a future version.\n",
      "Instructions for updating:\n",
      "Use tf.cast instead.\n",
      "Epoch 1/200\n",
      " - 5s - loss: 0.0300\n",
      "Epoch 2/200\n",
      " - 1s - loss: 0.0057\n",
      "Epoch 3/200\n",
      " - 1s - loss: 0.0012\n",
      "Epoch 4/200\n",
      " - 1s - loss: 1.1438e-04\n",
      "Epoch 5/200\n",
      " - 1s - loss: 6.7518e-05\n",
      "Epoch 6/200\n",
      " - 1s - loss: 5.4526e-05\n",
      "Epoch 7/200\n",
      " - 1s - loss: 4.6514e-05\n",
      "Epoch 8/200\n",
      " - 1s - loss: 4.2009e-05\n",
      "Epoch 9/200\n",
      " - 1s - loss: 3.9671e-05\n",
      "Epoch 10/200\n",
      " - 1s - loss: 3.6711e-05\n",
      "Epoch 11/200\n",
      " - 1s - loss: 3.4276e-05\n",
      "Epoch 12/200\n",
      " - 1s - loss: 3.2588e-05\n",
      "Epoch 13/200\n",
      " - 1s - loss: 3.1636e-05\n",
      "Epoch 14/200\n",
      " - 1s - loss: 3.0835e-05\n",
      "Epoch 15/200\n",
      " - 1s - loss: 3.0161e-05\n",
      "Epoch 16/200\n",
      " - 1s - loss: 2.9435e-05\n",
      "Epoch 17/200\n",
      " - 1s - loss: 2.8935e-05\n",
      "Epoch 18/200\n",
      " - 1s - loss: 2.8151e-05\n",
      "Epoch 19/200\n",
      " - 1s - loss: 2.7654e-05\n",
      "Epoch 20/200\n",
      " - 1s - loss: 2.7136e-05\n",
      "Epoch 21/200\n",
      " - 1s - loss: 2.6378e-05\n",
      "Epoch 22/200\n",
      " - 1s - loss: 2.5732e-05\n",
      "Epoch 23/200\n",
      " - 1s - loss: 2.5207e-05\n",
      "Epoch 24/200\n",
      " - 1s - loss: 2.4552e-05\n",
      "Epoch 25/200\n",
      " - 1s - loss: 2.3812e-05\n",
      "Epoch 26/200\n",
      " - 1s - loss: 2.3022e-05\n",
      "Epoch 27/200\n",
      " - 1s - loss: 2.2663e-05\n",
      "Epoch 28/200\n",
      " - 1s - loss: 2.1827e-05\n",
      "Epoch 29/200\n",
      " - 1s - loss: 2.1225e-05\n",
      "Epoch 30/200\n",
      " - 1s - loss: 2.0860e-05\n",
      "Epoch 31/200\n",
      " - 1s - loss: 2.0475e-05\n",
      "Epoch 32/200\n",
      " - 1s - loss: 1.9732e-05\n",
      "Epoch 33/200\n",
      " - 1s - loss: 1.9419e-05\n",
      "Epoch 34/200\n",
      " - 1s - loss: 1.8991e-05\n",
      "Epoch 35/200\n",
      " - 1s - loss: 1.8422e-05\n",
      "Epoch 36/200\n",
      " - 1s - loss: 1.8586e-05\n",
      "Epoch 37/200\n",
      " - 1s - loss: 1.7913e-05\n",
      "Epoch 38/200\n",
      " - 1s - loss: 1.7776e-05\n",
      "Epoch 39/200\n",
      " - 1s - loss: 1.7464e-05\n",
      "Epoch 40/200\n",
      " - 1s - loss: 1.7466e-05\n",
      "Epoch 41/200\n",
      " - 1s - loss: 1.6960e-05\n",
      "Epoch 42/200\n",
      " - 1s - loss: 1.6878e-05\n",
      "Epoch 43/200\n",
      " - 1s - loss: 1.6551e-05\n",
      "Epoch 44/200\n",
      " - 1s - loss: 1.6715e-05\n",
      "Epoch 45/200\n",
      " - 1s - loss: 1.6448e-05\n",
      "Epoch 46/200\n",
      " - 1s - loss: 1.6093e-05\n",
      "Epoch 47/200\n",
      " - 1s - loss: 1.5992e-05\n",
      "Epoch 48/200\n",
      " - 1s - loss: 1.5999e-05\n",
      "Epoch 49/200\n",
      " - 1s - loss: 1.5892e-05\n",
      "Epoch 50/200\n",
      " - 1s - loss: 1.5817e-05\n",
      "Epoch 51/200\n",
      " - 1s - loss: 1.5758e-05\n",
      "Epoch 52/200\n",
      " - 1s - loss: 1.5615e-05\n",
      "Epoch 53/200\n",
      " - 1s - loss: 1.5322e-05\n",
      "Epoch 54/200\n",
      " - 1s - loss: 1.5229e-05\n",
      "Epoch 55/200\n",
      " - 1s - loss: 1.5047e-05\n",
      "Epoch 56/200\n",
      " - 1s - loss: 1.5062e-05\n",
      "Epoch 57/200\n",
      " - 1s - loss: 1.5164e-05\n",
      "Epoch 58/200\n",
      " - 1s - loss: 1.4997e-05\n",
      "Epoch 59/200\n",
      " - 1s - loss: 1.4982e-05\n",
      "Epoch 60/200\n",
      " - 1s - loss: 1.5028e-05\n",
      "Epoch 61/200\n",
      " - 1s - loss: 1.4902e-05\n",
      "Epoch 62/200\n",
      " - 1s - loss: 1.4916e-05\n",
      "Epoch 63/200\n",
      " - 1s - loss: 1.4651e-05\n",
      "Epoch 64/200\n",
      " - 1s - loss: 1.4690e-05\n",
      "Epoch 65/200\n",
      " - 1s - loss: 1.4529e-05\n",
      "Epoch 66/200\n",
      " - 1s - loss: 1.4533e-05\n",
      "Epoch 67/200\n",
      " - 1s - loss: 1.4601e-05\n",
      "Epoch 68/200\n",
      " - 1s - loss: 1.4467e-05\n",
      "Epoch 69/200\n",
      " - 1s - loss: 1.4401e-05\n",
      "Epoch 70/200\n",
      " - 1s - loss: 1.4575e-05\n",
      "Epoch 71/200\n",
      " - 1s - loss: 1.4414e-05\n",
      "Epoch 72/200\n",
      " - 1s - loss: 1.4294e-05\n",
      "Epoch 73/200\n",
      " - 1s - loss: 1.4127e-05\n",
      "Epoch 74/200\n",
      " - 1s - loss: 1.4008e-05\n",
      "Epoch 75/200\n",
      " - 1s - loss: 1.4333e-05\n",
      "Epoch 76/200\n",
      " - 1s - loss: 1.4188e-05\n",
      "Epoch 77/200\n",
      " - 1s - loss: 1.3961e-05\n",
      "Epoch 78/200\n",
      " - 1s - loss: 1.4102e-05\n",
      "Epoch 79/200\n",
      " - 1s - loss: 1.4196e-05\n",
      "Epoch 80/200\n",
      " - 1s - loss: 1.4419e-05\n",
      "Epoch 81/200\n",
      " - 1s - loss: 1.3911e-05\n",
      "Epoch 82/200\n",
      " - 1s - loss: 1.3993e-05\n",
      "Epoch 83/200\n",
      " - 1s - loss: 1.3944e-05\n",
      "Epoch 84/200\n",
      " - 1s - loss: 1.3708e-05\n",
      "Epoch 85/200\n",
      " - 1s - loss: 1.4105e-05\n",
      "Epoch 86/200\n",
      " - 1s - loss: 1.3929e-05\n",
      "Epoch 87/200\n",
      " - 1s - loss: 1.3642e-05\n",
      "Epoch 88/200\n",
      " - 1s - loss: 1.3670e-05\n",
      "Epoch 89/200\n",
      " - 1s - loss: 1.3850e-05\n",
      "Epoch 90/200\n",
      " - 1s - loss: 1.3637e-05\n",
      "Epoch 91/200\n",
      " - 1s - loss: 1.3707e-05\n",
      "Epoch 92/200\n",
      " - 1s - loss: 1.3682e-05\n",
      "Epoch 93/200\n",
      " - 1s - loss: 1.3595e-05\n",
      "Epoch 94/200\n",
      " - 1s - loss: 1.3504e-05\n",
      "Epoch 95/200\n",
      " - 1s - loss: 1.3662e-05\n",
      "Epoch 96/200\n",
      " - 1s - loss: 1.3602e-05\n",
      "Epoch 97/200\n",
      " - 1s - loss: 1.3610e-05\n",
      "Epoch 98/200\n",
      " - 1s - loss: 1.3625e-05\n",
      "Epoch 99/200\n",
      " - 1s - loss: 1.3417e-05\n",
      "Epoch 100/200\n",
      " - 1s - loss: 1.3697e-05\n",
      "Epoch 101/200\n",
      " - 1s - loss: 1.3466e-05\n",
      "Epoch 102/200\n",
      " - 1s - loss: 1.3372e-05\n",
      "Epoch 103/200\n",
      " - 1s - loss: 1.3260e-05\n",
      "Epoch 104/200\n",
      " - 1s - loss: 1.3707e-05\n",
      "Epoch 105/200\n",
      " - 1s - loss: 1.3482e-05\n",
      "Epoch 106/200\n",
      " - 1s - loss: 1.3352e-05\n",
      "Epoch 107/200\n",
      " - 1s - loss: 1.3310e-05\n",
      "Epoch 108/200\n",
      " - 1s - loss: 1.3510e-05\n",
      "Epoch 109/200\n",
      " - 1s - loss: 1.3247e-05\n",
      "Epoch 110/200\n",
      " - 1s - loss: 1.3555e-05\n",
      "Epoch 111/200\n",
      " - 1s - loss: 1.3317e-05\n",
      "Epoch 112/200\n",
      " - 1s - loss: 1.3216e-05\n",
      "Epoch 113/200\n",
      " - 1s - loss: 1.3343e-05\n",
      "Epoch 114/200\n",
      " - 1s - loss: 1.3370e-05\n",
      "Epoch 115/200\n",
      " - 1s - loss: 1.3220e-05\n",
      "Epoch 116/200\n",
      " - 1s - loss: 1.3545e-05\n",
      "Epoch 117/200\n",
      " - 1s - loss: 1.3224e-05\n",
      "Epoch 118/200\n",
      " - 1s - loss: 1.3021e-05\n",
      "Epoch 119/200\n",
      " - 1s - loss: 1.3343e-05\n",
      "Epoch 120/200\n",
      " - 1s - loss: 1.3218e-05\n",
      "Epoch 121/200\n",
      " - 1s - loss: 1.3254e-05\n",
      "Epoch 122/200\n",
      " - 1s - loss: 1.3155e-05\n",
      "Epoch 123/200\n",
      " - 1s - loss: 1.3118e-05\n",
      "Epoch 124/200\n",
      " - 1s - loss: 1.3018e-05\n",
      "Epoch 125/200\n",
      " - 1s - loss: 1.3284e-05\n",
      "Epoch 126/200\n",
      " - 1s - loss: 1.3308e-05\n",
      "Epoch 127/200\n",
      " - 1s - loss: 1.3244e-05\n",
      "Epoch 128/200\n",
      " - 1s - loss: 1.3468e-05\n",
      "Epoch 129/200\n",
      " - 1s - loss: 1.3100e-05\n",
      "Epoch 130/200\n",
      " - 1s - loss: 1.2998e-05\n",
      "Epoch 131/200\n",
      " - 1s - loss: 1.3293e-05\n",
      "Epoch 132/200\n",
      " - 1s - loss: 1.3033e-05\n",
      "Epoch 133/200\n",
      " - 1s - loss: 1.3205e-05\n",
      "Epoch 134/200\n",
      " - 1s - loss: 1.3166e-05\n",
      "Epoch 135/200\n",
      " - 1s - loss: 1.3011e-05\n",
      "Epoch 136/200\n",
      " - 1s - loss: 1.3373e-05\n",
      "Epoch 137/200\n",
      " - 1s - loss: 1.3011e-05\n",
      "Epoch 138/200\n",
      " - 1s - loss: 1.3082e-05\n",
      "Epoch 139/200\n",
      " - 1s - loss: 1.3043e-05\n",
      "Epoch 140/200\n",
      " - 1s - loss: 1.3098e-05\n",
      "Epoch 141/200\n",
      " - 1s - loss: 1.3005e-05\n",
      "Epoch 142/200\n",
      " - 1s - loss: 1.3035e-05\n",
      "Epoch 143/200\n",
      " - 1s - loss: 1.3146e-05\n",
      "Epoch 144/200\n",
      " - 1s - loss: 1.2901e-05\n",
      "Epoch 145/200\n",
      " - 1s - loss: 1.2795e-05\n",
      "Epoch 146/200\n",
      " - 1s - loss: 1.2948e-05\n",
      "Epoch 147/200\n",
      " - 1s - loss: 1.2859e-05\n",
      "Epoch 148/200\n",
      " - 1s - loss: 1.2948e-05\n",
      "Epoch 149/200\n",
      " - 1s - loss: 1.2992e-05\n",
      "Epoch 150/200\n",
      " - 1s - loss: 1.2804e-05\n",
      "Epoch 151/200\n",
      " - 1s - loss: 1.2980e-05\n",
      "Epoch 152/200\n",
      " - 1s - loss: 1.2965e-05\n",
      "Epoch 153/200\n",
      " - 1s - loss: 1.2965e-05\n",
      "Epoch 154/200\n",
      " - 1s - loss: 1.3034e-05\n",
      "Epoch 155/200\n",
      " - 1s - loss: 1.2668e-05\n",
      "Epoch 156/200\n",
      " - 1s - loss: 1.2979e-05\n",
      "Epoch 157/200\n",
      " - 1s - loss: 1.2858e-05\n",
      "Epoch 158/200\n",
      " - 1s - loss: 1.2877e-05\n",
      "Epoch 159/200\n",
      " - 1s - loss: 1.3004e-05\n",
      "Epoch 160/200\n",
      " - 1s - loss: 1.2901e-05\n",
      "Epoch 161/200\n",
      " - 1s - loss: 1.2930e-05\n",
      "Epoch 162/200\n",
      " - 1s - loss: 1.2843e-05\n",
      "Epoch 163/200\n",
      " - 1s - loss: 1.2654e-05\n",
      "Epoch 164/200\n",
      " - 1s - loss: 1.2905e-05\n",
      "Epoch 165/200\n",
      " - 1s - loss: 1.2952e-05\n",
      "Epoch 166/200\n",
      " - 1s - loss: 1.2995e-05\n",
      "Epoch 167/200\n",
      " - 1s - loss: 1.2760e-05\n",
      "Epoch 168/200\n",
      " - 1s - loss: 1.2656e-05\n",
      "Epoch 169/200\n",
      " - 1s - loss: 1.2835e-05\n",
      "Epoch 170/200\n",
      " - 1s - loss: 1.2899e-05\n",
      "Epoch 171/200\n",
      " - 1s - loss: 1.3033e-05\n",
      "Epoch 172/200\n",
      " - 1s - loss: 1.2765e-05\n",
      "Epoch 173/200\n",
      " - 1s - loss: 1.2675e-05\n",
      "Epoch 174/200\n",
      " - 1s - loss: 1.2637e-05\n",
      "Epoch 175/200\n",
      " - 1s - loss: 1.2783e-05\n",
      "Epoch 176/200\n",
      " - 1s - loss: 1.2691e-05\n",
      "Epoch 177/200\n",
      " - 1s - loss: 1.2862e-05\n",
      "Epoch 178/200\n",
      " - 1s - loss: 1.2729e-05\n",
      "Epoch 179/200\n",
      " - 1s - loss: 1.2625e-05\n",
      "Epoch 180/200\n",
      " - 1s - loss: 1.2728e-05\n",
      "Epoch 181/200\n",
      " - 1s - loss: 1.2986e-05\n",
      "Epoch 182/200\n",
      " - 1s - loss: 1.2842e-05\n",
      "Epoch 183/200\n",
      " - 1s - loss: 1.2712e-05\n",
      "Epoch 184/200\n",
      " - 1s - loss: 1.2616e-05\n",
      "Epoch 185/200\n",
      " - 1s - loss: 1.2940e-05\n",
      "Epoch 186/200\n",
      " - 1s - loss: 1.2697e-05\n",
      "Epoch 187/200\n",
      " - 1s - loss: 1.2857e-05\n",
      "Epoch 188/200\n",
      " - 1s - loss: 1.3024e-05\n",
      "Epoch 189/200\n",
      " - 1s - loss: 1.2970e-05\n",
      "Epoch 190/200\n",
      " - 1s - loss: 1.2836e-05\n",
      "Epoch 191/200\n",
      " - 1s - loss: 1.2638e-05\n",
      "Epoch 192/200\n",
      " - 1s - loss: 1.2851e-05\n",
      "Epoch 193/200\n",
      " - 1s - loss: 1.2875e-05\n",
      "Epoch 194/200\n",
      " - 2s - loss: 1.2775e-05\n",
      "Epoch 195/200\n",
      " - 1s - loss: 1.2687e-05\n",
      "Epoch 196/200\n",
      " - 1s - loss: 1.2896e-05\n",
      "Epoch 197/200\n",
      " - 1s - loss: 1.2785e-05\n",
      "Epoch 198/200\n",
      " - 1s - loss: 1.2772e-05\n",
      "Epoch 199/200\n",
      " - 2s - loss: 1.2837e-05\n",
      "Epoch 200/200\n",
      " - 1s - loss: 1.2967e-05\n"
     ]
    },
    {
     "data": {
      "text/plain": [
       "<keras.callbacks.History at 0x2b79eb26278>"
      ]
     },
     "execution_count": 36,
     "metadata": {},
     "output_type": "execute_result"
    }
   ],
   "source": [
    "model = Sequential()\n",
    "model.add(LSTM(5, input_shape=(1, look_back)))\n",
    "model.add(Dense(1))\n",
    "model.compile(loss='mean_squared_error', optimizer='adam')\n",
    "model.fit(trainX, trainY, epochs=200, batch_size=256, verbose=2)"
   ]
  },
  {
   "cell_type": "code",
   "execution_count": 37,
   "metadata": {},
   "outputs": [],
   "source": [
    "trainPredict = model.predict(trainX)\n",
    "testPredict = model.predict(testX)"
   ]
  },
  {
   "cell_type": "markdown",
   "metadata": {},
   "source": [
    "We have to invert the predictions before calculating error to so that reports will be in same units as our original data"
   ]
  },
  {
   "cell_type": "code",
   "execution_count": 38,
   "metadata": {},
   "outputs": [],
   "source": [
    "trainPredict = scaler.inverse_transform(trainPredict)\n",
    "trainY = scaler.inverse_transform([trainY])\n",
    "testPredict = scaler.inverse_transform(testPredict)\n",
    "testY = scaler.inverse_transform([testY])"
   ]
  },
  {
   "cell_type": "code",
   "execution_count": 39,
   "metadata": {},
   "outputs": [
    {
     "name": "stdout",
     "output_type": "stream",
     "text": [
      "Train Score: 3.33 RMSE\n",
      "Test Score: 4.74 RMSE\n"
     ]
    }
   ],
   "source": [
    "\n",
    "trainScore = math.sqrt(mean_squared_error(trainY[0], trainPredict[:, 0]))\n",
    "print('Train Score: %.2f RMSE' % (trainScore))\n",
    "testScore = math.sqrt(mean_squared_error(testY[0], testPredict[:, 0]))\n",
    "print('Test Score: %.2f RMSE' % (testScore))\n"
   ]
  },
  {
   "cell_type": "code",
   "execution_count": 40,
   "metadata": {},
   "outputs": [],
   "source": [
    "# shift train predictions for plotting\n",
    "trainPredictPlot = np.empty_like(dataset)\n",
    "trainPredictPlot[:, :] = np.nan\n",
    "trainPredictPlot[look_back:len(trainPredict) + look_back, :] = trainPredict\n",
    " "
   ]
  },
  {
   "cell_type": "code",
   "execution_count": 41,
   "metadata": {},
   "outputs": [],
   "source": [
    " # shift test predictions for plotting\n",
    "testPredictPlot = np.empty_like(dataset)\n",
    "testPredictPlot[:, :] = np.nan\n",
    "testPredictPlot[len(trainPredict) + (look_back * 2) + 1:len(dataset) - 1, :] = testPredict\n",
    " \n"
   ]
  },
  {
   "cell_type": "code",
   "execution_count": 52,
   "metadata": {},
   "outputs": [
    {
     "data": {
      "image/png": "[encoded data removed]",
      "text/plain": [
       "<Figure size 432x288 with 1 Axes>"
      ]
     },
     "metadata": {
      "needs_background": "light"
     },
     "output_type": "display_data"
    }
   ],
   "source": [
    "plt.plot(df['last'], label='Actual')\n",
    "plt.plot(pd.DataFrame(trainPredictPlot, columns=[\"close\"], index=df.index).close, label='Training')\n",
    "plt.plot(pd.DataFrame(testPredictPlot, columns=[\"close\"], index=df.index).close, label='Testing')\n",
    "plt.legend(loc='best')\n",
    "plt.show()#[500,500])"
   ]
  },
  {
   "cell_type": "code",
   "execution_count": null,
   "metadata": {},
   "outputs": [],
   "source": []
  },
  {
   "cell_type": "code",
   "execution_count": 1,
   "metadata": {},
   "outputs": [
    {
     "name": "stderr",
     "output_type": "stream",
     "text": [
      "Using TensorFlow backend.\n"
     ]
    }
   ],
   "source": [
    "from keras.models import Sequential\n",
    "from keras.layers import LSTM\n",
    "from keras.layers import Dense"
   ]
  },
  {
   "cell_type": "code",
   "execution_count": 2,
   "metadata": {},
   "outputs": [],
   "source": [
    "model = Sequential()"
   ]
  },
  {
   "cell_type": "code",
   "execution_count": 7,
   "metadata": {},
   "outputs": [
    {
     "name": "stdout",
     "output_type": "stream",
     "text": [
      "WARNING:tensorflow:From C:\\Users\\vss\\Anaconda3\\lib\\site-packages\\tensorflow\\python\\framework\\op_def_library.py:263: colocate_with (from tensorflow.python.framework.ops) is deprecated and will be removed in a future version.\n",
      "Instructions for updating:\n",
      "Colocations handled automatically by placer.\n"
     ]
    }
   ],
   "source": [
    "model.add(LSTM(5,activation=\"relu\",return_sequences = True,input_shape=(None,1)))\n",
    "model.add(Dense(1))"
   ]
  },
  {
   "cell_type": "code",
   "execution_count": null,
   "metadata": {},
   "outputs": [],
   "source": []
  }
 ],
 "metadata": {
  "kernelspec": {
   "display_name": "Python 3",
   "language": "python",
   "name": "python3"
  },
  "language_info": {
   "codemirror_mode": {
    "name": "ipython",
    "version": 3
   },
   "file_extension": ".py",
   "mimetype": "text/x-python",
   "name": "python",
   "nbconvert_exporter": "python",
   "pygments_lexer": "ipython3",
   "version": "3.7.1"
  }
 },
 "nbformat": 4,
 "nbformat_minor": 2
}
